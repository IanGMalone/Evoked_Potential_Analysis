{
 "cells": [
  {
   "cell_type": "markdown",
   "metadata": {},
   "source": [
    "# Exploratory Data Analysis of Stimulus Triggered Averages\n",
    "*Ian Malone*"
   ]
  },
  {
   "cell_type": "markdown",
   "metadata": {},
   "source": [
    "#### Analysis plan"
   ]
  },
  {
   "cell_type": "markdown",
   "metadata": {},
   "source": [
    "- Given raw evoked potential time series\n",
    "- Find locations of delivered stimuli\n",
    "- Capture 40 ms of evoked potential waveform\n",
    "- Account for differences in recording ampltiudes between animal cohorts\n",
    "- Save these data to a MEP dataframe along with other information (Animal, Day, Stimulus Amplitude, Diaphragm Side, Sample)\n",
    "- Average MEPs to create STA dataframe. Both the MEP and STA dataframe contain time series\n",
    "\n",
    "\n",
    "This is where the analysis in this notebook begins. Above analysis was completed in a separate script \"mep-to-sta-batch.py\"\n",
    "- Check raw STAs with a plot\n",
    "- Remove bad data\n",
    "- Align days properly (different animals had measurements on different days)\n",
    "- Remove stimulus artifact\n",
    "- Normalize the STAs to be in [0,1] (this could also be done later... p2p ratio max)\n",
    "- Check to make sure the distribution of data is preserved\n",
    "\n",
    "\n",
    "\n",
    "- Bin evoked potential stimuli amplitudes (e.g., put all measurements from 5 uA to 14 uA in 10 uA bin)\n",
    "\n",
    "- Capture metric of choise (p2p amplitude)\n",
    "- Explore all variables not controlled for and pool if possible (# hours stim, time between stim and measurement, time of day, day postop)\n",
    "- Hypothesis plot... p2p amplitude as a function of stimulus amplitude, injury, therapy, and day\n",
    "- Fit these data to a linear mixed effect model to test for significant differences\n",
    "- Create analysis for further questions..."
   ]
  },
  {
   "cell_type": "markdown",
   "metadata": {},
   "source": [
    "#### Load data and check structure"
   ]
  },
  {
   "cell_type": "code",
   "execution_count": 1,
   "metadata": {
    "scrolled": true
   },
   "outputs": [
    {
     "data": {
      "text/html": [
       "<div>\n",
       "<style scoped>\n",
       "    .dataframe tbody tr th:only-of-type {\n",
       "        vertical-align: middle;\n",
       "    }\n",
       "\n",
       "    .dataframe tbody tr th {\n",
       "        vertical-align: top;\n",
       "    }\n",
       "\n",
       "    .dataframe thead th {\n",
       "        text-align: right;\n",
       "    }\n",
       "</style>\n",
       "<table border=\"1\" class=\"dataframe\">\n",
       "  <thead>\n",
       "    <tr style=\"text-align: right;\">\n",
       "      <th></th>\n",
       "      <th>Animal</th>\n",
       "      <th>Day_Postop</th>\n",
       "      <th>Day_Stim</th>\n",
       "      <th>Side</th>\n",
       "      <th>Stim_Amplitude</th>\n",
       "      <th>Sample</th>\n",
       "      <th>STA_Amplitude</th>\n",
       "    </tr>\n",
       "  </thead>\n",
       "  <tbody>\n",
       "    <tr>\n",
       "      <th>0</th>\n",
       "      <td>N01</td>\n",
       "      <td>999</td>\n",
       "      <td>1</td>\n",
       "      <td>Left</td>\n",
       "      <td>10.0</td>\n",
       "      <td>0</td>\n",
       "      <td>-0.014575</td>\n",
       "    </tr>\n",
       "    <tr>\n",
       "      <th>1</th>\n",
       "      <td>N01</td>\n",
       "      <td>999</td>\n",
       "      <td>1</td>\n",
       "      <td>Left</td>\n",
       "      <td>10.0</td>\n",
       "      <td>1</td>\n",
       "      <td>-0.007710</td>\n",
       "    </tr>\n",
       "    <tr>\n",
       "      <th>2</th>\n",
       "      <td>N01</td>\n",
       "      <td>999</td>\n",
       "      <td>1</td>\n",
       "      <td>Left</td>\n",
       "      <td>10.0</td>\n",
       "      <td>2</td>\n",
       "      <td>-0.002015</td>\n",
       "    </tr>\n",
       "    <tr>\n",
       "      <th>3</th>\n",
       "      <td>N01</td>\n",
       "      <td>999</td>\n",
       "      <td>1</td>\n",
       "      <td>Left</td>\n",
       "      <td>10.0</td>\n",
       "      <td>3</td>\n",
       "      <td>-0.001218</td>\n",
       "    </tr>\n",
       "    <tr>\n",
       "      <th>4</th>\n",
       "      <td>N01</td>\n",
       "      <td>999</td>\n",
       "      <td>1</td>\n",
       "      <td>Left</td>\n",
       "      <td>10.0</td>\n",
       "      <td>4</td>\n",
       "      <td>-0.003526</td>\n",
       "    </tr>\n",
       "  </tbody>\n",
       "</table>\n",
       "</div>"
      ],
      "text/plain": [
       "  Animal  Day_Postop  Day_Stim  Side  Stim_Amplitude  Sample  STA_Amplitude\n",
       "0    N01         999         1  Left            10.0       0      -0.014575\n",
       "1    N01         999         1  Left            10.0       1      -0.007710\n",
       "2    N01         999         1  Left            10.0       2      -0.002015\n",
       "3    N01         999         1  Left            10.0       3      -0.001218\n",
       "4    N01         999         1  Left            10.0       4      -0.003526"
      ]
     },
     "execution_count": 1,
     "metadata": {},
     "output_type": "execute_result"
    }
   ],
   "source": [
    "import numpy as np\n",
    "import pandas as pd\n",
    "import seaborn as sns\n",
    "import matplotlib.pyplot as plt\n",
    "\n",
    "filename = 'df_STA_NEIL_2021_01_14'\n",
    "\n",
    "project = 'NEIL' if 'NEIL' in filename else 'SPARC'\n",
    "path = 'D:\\\\Dataframe_CSVs\\\\%s.csv' % filename\n",
    "\n",
    "df_sta = pd.read_csv(path)\n",
    "df_sta.head()"
   ]
  },
  {
   "cell_type": "markdown",
   "metadata": {},
   "source": [
    "#### Add 'Time' column based on 'Sample' and a sampling frequency of 5000 Hz"
   ]
  },
  {
   "cell_type": "code",
   "execution_count": 2,
   "metadata": {},
   "outputs": [
    {
     "data": {
      "text/html": [
       "<div>\n",
       "<style scoped>\n",
       "    .dataframe tbody tr th:only-of-type {\n",
       "        vertical-align: middle;\n",
       "    }\n",
       "\n",
       "    .dataframe tbody tr th {\n",
       "        vertical-align: top;\n",
       "    }\n",
       "\n",
       "    .dataframe thead th {\n",
       "        text-align: right;\n",
       "    }\n",
       "</style>\n",
       "<table border=\"1\" class=\"dataframe\">\n",
       "  <thead>\n",
       "    <tr style=\"text-align: right;\">\n",
       "      <th></th>\n",
       "      <th>Animal</th>\n",
       "      <th>Day_Postop</th>\n",
       "      <th>Day_Stim</th>\n",
       "      <th>Side</th>\n",
       "      <th>Stim_Amplitude</th>\n",
       "      <th>STA_Amplitude</th>\n",
       "      <th>Time</th>\n",
       "    </tr>\n",
       "  </thead>\n",
       "  <tbody>\n",
       "    <tr>\n",
       "      <th>0</th>\n",
       "      <td>N01</td>\n",
       "      <td>999</td>\n",
       "      <td>1</td>\n",
       "      <td>Left</td>\n",
       "      <td>10.0</td>\n",
       "      <td>-0.014575</td>\n",
       "      <td>0.0</td>\n",
       "    </tr>\n",
       "    <tr>\n",
       "      <th>1</th>\n",
       "      <td>N01</td>\n",
       "      <td>999</td>\n",
       "      <td>1</td>\n",
       "      <td>Left</td>\n",
       "      <td>10.0</td>\n",
       "      <td>-0.007710</td>\n",
       "      <td>0.2</td>\n",
       "    </tr>\n",
       "    <tr>\n",
       "      <th>2</th>\n",
       "      <td>N01</td>\n",
       "      <td>999</td>\n",
       "      <td>1</td>\n",
       "      <td>Left</td>\n",
       "      <td>10.0</td>\n",
       "      <td>-0.002015</td>\n",
       "      <td>0.4</td>\n",
       "    </tr>\n",
       "    <tr>\n",
       "      <th>3</th>\n",
       "      <td>N01</td>\n",
       "      <td>999</td>\n",
       "      <td>1</td>\n",
       "      <td>Left</td>\n",
       "      <td>10.0</td>\n",
       "      <td>-0.001218</td>\n",
       "      <td>0.6</td>\n",
       "    </tr>\n",
       "    <tr>\n",
       "      <th>4</th>\n",
       "      <td>N01</td>\n",
       "      <td>999</td>\n",
       "      <td>1</td>\n",
       "      <td>Left</td>\n",
       "      <td>10.0</td>\n",
       "      <td>-0.003526</td>\n",
       "      <td>0.8</td>\n",
       "    </tr>\n",
       "  </tbody>\n",
       "</table>\n",
       "</div>"
      ],
      "text/plain": [
       "  Animal  Day_Postop  Day_Stim  Side  Stim_Amplitude  STA_Amplitude  Time\n",
       "0    N01         999         1  Left            10.0      -0.014575   0.0\n",
       "1    N01         999         1  Left            10.0      -0.007710   0.2\n",
       "2    N01         999         1  Left            10.0      -0.002015   0.4\n",
       "3    N01         999         1  Left            10.0      -0.001218   0.6\n",
       "4    N01         999         1  Left            10.0      -0.003526   0.8"
      ]
     },
     "execution_count": 2,
     "metadata": {},
     "output_type": "execute_result"
    }
   ],
   "source": [
    "sampling_frequency = 5000 # hertz\n",
    "df_sta['Time'] = df_sta['Sample']/sampling_frequency # create time column based on samples and sampling frequency\n",
    "df_sta['Time'] = df_sta['Time']*1000\n",
    "df_sta = df_sta.drop(columns=['Sample'])\n",
    "df_sta.head()"
   ]
  },
  {
   "cell_type": "markdown",
   "metadata": {},
   "source": [
    "#### Drop 'Day_Postop' feature for now"
   ]
  },
  {
   "cell_type": "code",
   "execution_count": 3,
   "metadata": {},
   "outputs": [],
   "source": [
    "df_sta = df_sta.drop(['Day_Postop'], axis=1)"
   ]
  },
  {
   "cell_type": "markdown",
   "metadata": {},
   "source": [
    "#### Define function to add group information to dataframe"
   ]
  },
  {
   "cell_type": "code",
   "execution_count": 4,
   "metadata": {},
   "outputs": [],
   "source": [
    "### groups for NEIL project\n",
    "injstim = ['N09','N10','N11','N13','N27','N28','N29','N30']\n",
    "noinjstim = ['N01','N04','N05','N31','N32','N33','N34','N35'] \n",
    "injnostim = ['N14','N15','N16','N21','N22','N23','N36','N37']\n",
    "noinjnostim = ['N17','N19','N20','N24','N25','N26','N38','N39'] \n",
    "\n",
    "### groups for SPARC project\n",
    "groupa = ['S01', 'S02']\n",
    "groupb = ['S03', 'S04']\n",
    "groupc = ['S05', 'S06']\n",
    "\n",
    "# add animal group information to the dataframe\n",
    "# make a function so you can apply to multiple dataframes\n",
    "def add_group(df):\n",
    "    '''This function adds Group column to dataframe based on Animal column'''\n",
    "    if project == 'NEIL':\n",
    "        conditions = [\n",
    "            (df['Animal'].isin(injstim)),\n",
    "            (df['Animal'].isin(noinjstim)),\n",
    "            (df['Animal'].isin(injnostim)),\n",
    "            (df['Animal'].isin(noinjnostim)) ]\n",
    "        choices = ['Yes Injury, Yes Stimulation', 'No Injury, Yes Stimulation', 'Yes Injury, No Stimulation', 'No Injury, No Stimulation']\n",
    "        df['Group'] = np.select(conditions, choices)\n",
    "    elif project == 'SPARC':\n",
    "        conditions = [\n",
    "            (df['Animal'].isin(groupa)),\n",
    "            (df['Animal'].isin(groupb)),\n",
    "            (df['Animal'].isin(groupc)) ]\n",
    "        choices = ['Group A', 'Group B', 'Group C']\n",
    "        df['Group'] = np.select(conditions, choices)       "
   ]
  },
  {
   "cell_type": "markdown",
   "metadata": {},
   "source": [
    "#### Check raw STAs by plotting"
   ]
  },
  {
   "cell_type": "code",
   "execution_count": 5,
   "metadata": {
    "scrolled": true
   },
   "outputs": [],
   "source": [
    "# g = sns.FacetGrid(df_sta[(df_sta['Stim_Amplitude'] % 10 == 0) & (df_sta['Side'] == 'Left')], col='Day_Stim', row='Animal', hue='Stim_Amplitude')\n",
    "# g.map_dataframe(sns.lineplot, x='Time', y='STA_Amplitude')\n",
    "# g.set_axis_labels('Time (ms)', 'Ampltiude (V)')\n",
    "# g.add_legend()"
   ]
  },
  {
   "cell_type": "markdown",
   "metadata": {},
   "source": [
    "#### Adjust days so they are properly aligned"
   ]
  },
  {
   "cell_type": "code",
   "execution_count": 6,
   "metadata": {},
   "outputs": [],
   "source": [
    "# we will call day 1 the day when baseline (no stimulation yet) measurements\n",
    "# were taken\n",
    "# early animals were recorded in this way\n",
    "# recent animals had this called day 0... change that here\n",
    "recent_animals = ['N27','N28','N29','N30','N31','N32','N33']\n",
    "\n",
    "df_sta.loc[df_sta['Animal'].isin(recent_animals), 'Day_Stim']+=1\n",
    "df_sta = df_sta[df_sta['Day_Stim'] < 5]"
   ]
  },
  {
   "cell_type": "markdown",
   "metadata": {},
   "source": [
    "#### Based on the plotted STAs, remove unusable data from dataframe"
   ]
  },
  {
   "cell_type": "code",
   "execution_count": 7,
   "metadata": {},
   "outputs": [],
   "source": [
    "# delete N29 from dataframe (recordings were badly messed up)\n",
    "df_sta = df_sta[df_sta['Animal'] != 'N29']"
   ]
  },
  {
   "cell_type": "markdown",
   "metadata": {},
   "source": [
    "#### Keep only the side of interest for analysis"
   ]
  },
  {
   "cell_type": "code",
   "execution_count": 8,
   "metadata": {},
   "outputs": [],
   "source": [
    "if 'NEIL' in path: \n",
    "    df_sta = df_sta[df_sta[\"Side\"] == 'Left']\n",
    "else:\n",
    "    df_sta = df_sta[df_sta[\"Side\"] == 'Right']"
   ]
  },
  {
   "cell_type": "markdown",
   "metadata": {},
   "source": [
    "#### Remove stimulus artifact"
   ]
  },
  {
   "cell_type": "code",
   "execution_count": 9,
   "metadata": {},
   "outputs": [],
   "source": [
    "# remove the stimulus artifact\n",
    "df_sta_noart = df_sta.copy()\n",
    "df_sta_noart = df_sta_noart[df_sta_noart['Time'] > 2.5]"
   ]
  },
  {
   "cell_type": "markdown",
   "metadata": {},
   "source": [
    "#### Plot cleaned STAs"
   ]
  },
  {
   "cell_type": "code",
   "execution_count": 10,
   "metadata": {
    "scrolled": true
   },
   "outputs": [],
   "source": [
    "# g = sns.FacetGrid(df_sta_noart[(df_sta_noart['Stim_Amplitude'] % 10 == 0)], col='Day_Stim', row='Animal', hue='Stim_Amplitude')\n",
    "# g.map_dataframe(sns.lineplot, x='Time', y='STA_Amplitude')\n",
    "# g.set_axis_labels('Time (ms)', 'Ampltiude (V)')\n",
    "# g.add_legend()"
   ]
  },
  {
   "cell_type": "markdown",
   "metadata": {},
   "source": [
    "#### Scale the STAs to occupy [0,1]"
   ]
  },
  {
   "cell_type": "code",
   "execution_count": 11,
   "metadata": {},
   "outputs": [],
   "source": [
    "df_scaled = df_sta_noart.copy()\n",
    "\n",
    "# for easier scaling, reshape the dataframe from long to wide format\n",
    "df_scaled = df_scaled.pivot_table(index=['Day_Stim', 'Stim_Amplitude', 'Time'], \n",
    "                    columns='Animal', \n",
    "                    values='STA_Amplitude')"
   ]
  },
  {
   "cell_type": "code",
   "execution_count": 12,
   "metadata": {},
   "outputs": [],
   "source": [
    "# import the scaler and perfrom 0-1 rescaling\n",
    "from sklearn.preprocessing import MinMaxScaler\n",
    "scaler = MinMaxScaler()\n",
    "df_scaled[df_scaled.columns] = scaler.fit_transform(df_scaled[df_scaled.columns])"
   ]
  },
  {
   "cell_type": "code",
   "execution_count": 13,
   "metadata": {},
   "outputs": [],
   "source": [
    "# convert dataframe back to long format\n",
    "animal_cols = df_scaled.columns\n",
    "df_scaled.reset_index(inplace=True)\n",
    "df_scaled.columns.name = None\n",
    "df_sta_scaled = pd.melt(df_scaled, id_vars=['Day_Stim', 'Stim_Amplitude', 'Time'], value_vars=animal_cols, var_name='Animal', value_name='STA_Amplitude')"
   ]
  },
  {
   "cell_type": "markdown",
   "metadata": {},
   "source": [
    "#### Plot the normalized STAs"
   ]
  },
  {
   "cell_type": "code",
   "execution_count": 14,
   "metadata": {
    "scrolled": true
   },
   "outputs": [],
   "source": [
    "# g = sns.FacetGrid(df_sta_scaled[(df_sta_scaled['Stim_Amplitude'] % 10 == 0)], col='Day_Stim', row='Animal', hue='Stim_Amplitude')\n",
    "# g.map_dataframe(sns.lineplot, x='Time', y='STA_Amplitude')\n",
    "# g.set_axis_labels('Time (ms)', 'Ampltiude (V)')\n",
    "# g.add_legend()"
   ]
  },
  {
   "cell_type": "markdown",
   "metadata": {},
   "source": [
    "#### Make example figures for proposal (\"What is a MEP/STA?\")"
   ]
  },
  {
   "cell_type": "code",
   "execution_count": 15,
   "metadata": {},
   "outputs": [],
   "source": [
    "# sns.set(font_scale=2.5)\n",
    "# sns.set_style(\"ticks\")\n",
    "# sns.despine()\n",
    "# plt.figure(figsize=(20,12))\n",
    "# stimamplist = [100,200,300,400,500,600]\n",
    "# ax = sns.lineplot(data=df_sta_noart[(df_sta_noart['Animal'] == 'N11') & (df_sta_noart['Day_Stim'] == 4) \n",
    "#                                & (df_sta_noart['Stim_Amplitude'].isin(stimamplist))\n",
    "#                                & (df_sta_noart['Time'] < 20)], \n",
    "#              x=\"Time\", y=\"STA_Amplitude\", hue=\"Stim_Amplitude\", palette='viridis', linewidth=5, legend=True)\n",
    "# ax.set(xlabel='Time (ms)', ylabel='Amplitude (mV)')\n",
    "# ax.legend().set_title('Stimulus Amplitude (μA)')\n",
    "# sns.despine()\n",
    "# ax.figure.savefig(\"D:\\\\single_sta.png\")"
   ]
  },
  {
   "cell_type": "code",
   "execution_count": 16,
   "metadata": {
    "scrolled": false
   },
   "outputs": [],
   "source": [
    "# sns.set(font_scale=1.7)\n",
    "# sns.set_style(\"ticks\")\n",
    "# sns.despine()\n",
    "# plt.figure(figsize=(40,20))\n",
    "# stimlist = [150, 200, 250, 300, 350, 400, 450, 500, 550]\n",
    "# animallist = ['N09']\n",
    "# daylist=[1,2,3,4]\n",
    "\n",
    "# df_example = df_sta_noart.copy()\n",
    "# df_example = df_example.rename(columns={'Stim_Amplitude':'Stimulus Amplitude (μA)'})\n",
    "\n",
    "# g = sns.FacetGrid(df_example[(df_example['Stimulus Amplitude (μA)'].isin(stimlist)) & (df_example['Time'] < 30) \n",
    "#                                & (df_example['Animal'].isin(animallist)) \n",
    "#                                & (df_example['Day_Stim'].isin(daylist))\n",
    "#                                & (df_example['Side'] == 'Left')], \n",
    "#                   col='Day_Stim', row='Animal', palette='viridis', hue='Stimulus Amplitude (μA)', height=5)\n",
    "# g.map_dataframe(sns.lineplot, x='Time', y='STA_Amplitude', linewidth=2.5)\n",
    "# g.set_axis_labels('Time (ms)', 'Ampltiude (V)')\n",
    "# g.add_legend()\n",
    "# g.savefig(\"D:\\\\sta_over_time.png\")"
   ]
  },
  {
   "cell_type": "markdown",
   "metadata": {},
   "source": [
    "\n",
    "### Peak-to-peak (p2p) amplitude analysis"
   ]
  },
  {
   "cell_type": "code",
   "execution_count": 17,
   "metadata": {},
   "outputs": [
    {
     "data": {
      "text/html": [
       "<div>\n",
       "<style scoped>\n",
       "    .dataframe tbody tr th:only-of-type {\n",
       "        vertical-align: middle;\n",
       "    }\n",
       "\n",
       "    .dataframe tbody tr th {\n",
       "        vertical-align: top;\n",
       "    }\n",
       "\n",
       "    .dataframe thead th {\n",
       "        text-align: right;\n",
       "    }\n",
       "</style>\n",
       "<table border=\"1\" class=\"dataframe\">\n",
       "  <thead>\n",
       "    <tr style=\"text-align: right;\">\n",
       "      <th></th>\n",
       "      <th>Animal</th>\n",
       "      <th>Day_Stim</th>\n",
       "      <th>Side</th>\n",
       "      <th>Stim_Amplitude</th>\n",
       "      <th>STA_Amplitude</th>\n",
       "      <th>Time</th>\n",
       "    </tr>\n",
       "  </thead>\n",
       "  <tbody>\n",
       "    <tr>\n",
       "      <th>13</th>\n",
       "      <td>N01</td>\n",
       "      <td>1</td>\n",
       "      <td>Left</td>\n",
       "      <td>10.0</td>\n",
       "      <td>-0.011118</td>\n",
       "      <td>2.6</td>\n",
       "    </tr>\n",
       "    <tr>\n",
       "      <th>14</th>\n",
       "      <td>N01</td>\n",
       "      <td>1</td>\n",
       "      <td>Left</td>\n",
       "      <td>10.0</td>\n",
       "      <td>-0.015516</td>\n",
       "      <td>2.8</td>\n",
       "    </tr>\n",
       "    <tr>\n",
       "      <th>15</th>\n",
       "      <td>N01</td>\n",
       "      <td>1</td>\n",
       "      <td>Left</td>\n",
       "      <td>10.0</td>\n",
       "      <td>-0.013481</td>\n",
       "      <td>3.0</td>\n",
       "    </tr>\n",
       "    <tr>\n",
       "      <th>16</th>\n",
       "      <td>N01</td>\n",
       "      <td>1</td>\n",
       "      <td>Left</td>\n",
       "      <td>10.0</td>\n",
       "      <td>-0.009265</td>\n",
       "      <td>3.2</td>\n",
       "    </tr>\n",
       "    <tr>\n",
       "      <th>17</th>\n",
       "      <td>N01</td>\n",
       "      <td>1</td>\n",
       "      <td>Left</td>\n",
       "      <td>10.0</td>\n",
       "      <td>-0.004450</td>\n",
       "      <td>3.4</td>\n",
       "    </tr>\n",
       "  </tbody>\n",
       "</table>\n",
       "</div>"
      ],
      "text/plain": [
       "   Animal  Day_Stim  Side  Stim_Amplitude  STA_Amplitude  Time\n",
       "13    N01         1  Left            10.0      -0.011118   2.6\n",
       "14    N01         1  Left            10.0      -0.015516   2.8\n",
       "15    N01         1  Left            10.0      -0.013481   3.0\n",
       "16    N01         1  Left            10.0      -0.009265   3.2\n",
       "17    N01         1  Left            10.0      -0.004450   3.4"
      ]
     },
     "execution_count": 17,
     "metadata": {},
     "output_type": "execute_result"
    }
   ],
   "source": [
    "# make dataframe from the raw data and the scaled data to check if distribution is preserved later\n",
    "\n",
    "df_p2p_scaled = df_sta_scaled.copy()\n",
    "df_p2p = df_sta_noart.copy()\n",
    "df_p2p.head()"
   ]
  },
  {
   "cell_type": "markdown",
   "metadata": {},
   "source": [
    "#### Calclated p2p amplitude"
   ]
  },
  {
   "cell_type": "code",
   "execution_count": 18,
   "metadata": {},
   "outputs": [],
   "source": [
    "df_p2p = df_p2p.groupby(['Animal', 'Day_Stim', 'Stim_Amplitude'])['STA_Amplitude'].apply(lambda x: x.max() - x.min()).reset_index().rename(columns={'STA_Amplitude':'p2p_amplitude'})\n",
    "df_p2p_scaled = df_p2p_scaled.groupby(['Animal', 'Day_Stim', 'Stim_Amplitude'])['STA_Amplitude'].apply(lambda x: x.max() - x.min()).reset_index().rename(columns={'STA_Amplitude':'p2p_amplitude_scaled'})\n"
   ]
  },
  {
   "cell_type": "markdown",
   "metadata": {},
   "source": [
    "#### Convert all p2p amplitudes into ratios of the animal's max p2p amplitude over all 4 days"
   ]
  },
  {
   "cell_type": "code",
   "execution_count": 19,
   "metadata": {},
   "outputs": [],
   "source": [
    "# Convert all p2p amplitudes into ratios of the animal's max p2p amplitude\n",
    "\n",
    "### YOU MAY HAVE TO GROUP THEM ON SIDE AS WELL FOR EACH ANIMAL\n",
    " \n",
    "df_p2p_ratio_max = df_p2p.merge(df_p2p.groupby(['Animal'])['p2p_amplitude'].max(), on='Animal', how='left')\n",
    "df_p2p_ratio_max['p2p_amplitude_ratio_max'] = df_p2p_ratio_max['p2p_amplitude_x'] / df_p2p_ratio_max['p2p_amplitude_y']\n",
    "df_p2p_ratio_max = df_p2p_ratio_max.drop(columns=['p2p_amplitude_x', 'p2p_amplitude_y'])"
   ]
  },
  {
   "cell_type": "markdown",
   "metadata": {},
   "source": [
    "#### Add group information to dataframe"
   ]
  },
  {
   "cell_type": "code",
   "execution_count": 20,
   "metadata": {},
   "outputs": [
    {
     "data": {
      "text/html": [
       "<div>\n",
       "<style scoped>\n",
       "    .dataframe tbody tr th:only-of-type {\n",
       "        vertical-align: middle;\n",
       "    }\n",
       "\n",
       "    .dataframe tbody tr th {\n",
       "        vertical-align: top;\n",
       "    }\n",
       "\n",
       "    .dataframe thead th {\n",
       "        text-align: right;\n",
       "    }\n",
       "</style>\n",
       "<table border=\"1\" class=\"dataframe\">\n",
       "  <thead>\n",
       "    <tr style=\"text-align: right;\">\n",
       "      <th></th>\n",
       "      <th>Animal</th>\n",
       "      <th>Day_Stim</th>\n",
       "      <th>Stim_Amplitude</th>\n",
       "      <th>p2p_amplitude_ratio_max</th>\n",
       "      <th>Group</th>\n",
       "    </tr>\n",
       "  </thead>\n",
       "  <tbody>\n",
       "    <tr>\n",
       "      <th>0</th>\n",
       "      <td>N01</td>\n",
       "      <td>1</td>\n",
       "      <td>10.0</td>\n",
       "      <td>0.045521</td>\n",
       "      <td>No Injury, Yes Stimulation</td>\n",
       "    </tr>\n",
       "    <tr>\n",
       "      <th>1</th>\n",
       "      <td>N01</td>\n",
       "      <td>1</td>\n",
       "      <td>20.0</td>\n",
       "      <td>0.046879</td>\n",
       "      <td>No Injury, Yes Stimulation</td>\n",
       "    </tr>\n",
       "    <tr>\n",
       "      <th>2</th>\n",
       "      <td>N01</td>\n",
       "      <td>1</td>\n",
       "      <td>30.0</td>\n",
       "      <td>0.049342</td>\n",
       "      <td>No Injury, Yes Stimulation</td>\n",
       "    </tr>\n",
       "    <tr>\n",
       "      <th>3</th>\n",
       "      <td>N01</td>\n",
       "      <td>1</td>\n",
       "      <td>40.0</td>\n",
       "      <td>0.063211</td>\n",
       "      <td>No Injury, Yes Stimulation</td>\n",
       "    </tr>\n",
       "    <tr>\n",
       "      <th>4</th>\n",
       "      <td>N01</td>\n",
       "      <td>1</td>\n",
       "      <td>50.0</td>\n",
       "      <td>0.087493</td>\n",
       "      <td>No Injury, Yes Stimulation</td>\n",
       "    </tr>\n",
       "  </tbody>\n",
       "</table>\n",
       "</div>"
      ],
      "text/plain": [
       "  Animal  Day_Stim  Stim_Amplitude  p2p_amplitude_ratio_max  \\\n",
       "0    N01         1            10.0                 0.045521   \n",
       "1    N01         1            20.0                 0.046879   \n",
       "2    N01         1            30.0                 0.049342   \n",
       "3    N01         1            40.0                 0.063211   \n",
       "4    N01         1            50.0                 0.087493   \n",
       "\n",
       "                        Group  \n",
       "0  No Injury, Yes Stimulation  \n",
       "1  No Injury, Yes Stimulation  \n",
       "2  No Injury, Yes Stimulation  \n",
       "3  No Injury, Yes Stimulation  \n",
       "4  No Injury, Yes Stimulation  "
      ]
     },
     "execution_count": 20,
     "metadata": {},
     "output_type": "execute_result"
    }
   ],
   "source": [
    "add_group(df_p2p_ratio_max)\n",
    "df_p2p_ratio_max.head()"
   ]
  },
  {
   "cell_type": "markdown",
   "metadata": {},
   "source": [
    "#### Make plots to compare the distribution of p2p, p2p_scaled, p2p_ratio_max"
   ]
  },
  {
   "cell_type": "code",
   "execution_count": 32,
   "metadata": {},
   "outputs": [],
   "source": [
    "# Representative plot for presentations\n",
    "\n",
    "# sns.set(font_scale=1)\n",
    "# sns.set_style(\"ticks\")\n",
    "# sns.despine()\n",
    "# plt.figure(figsize=(5,5))\n",
    "\n",
    "# ax = sns.scatterplot(data=df_p2p[(df_p2p['Animal'].isin(animals))], \n",
    "#                 x='Stim_Amplitude', y='p2p_amplitude', palette='viridis', hue='Day_Stim', s=20)\n",
    "# ax.set(xlabel='Stimulus Amplitude (μA)', ylabel='Peak to Peak Amplitude (mV)', title='Raw Data')\n",
    "# ax.legend().set_title('Day of Stimulation')\n",
    "# sns.despine()\n",
    "# # ax.figure.savefig(\"D:\\\\representative.png\")"
   ]
  },
  {
   "cell_type": "code",
   "execution_count": 47,
   "metadata": {},
   "outputs": [
    {
     "data": {
      "text/plain": [
       "<Figure size 432x288 with 0 Axes>"
      ]
     },
     "metadata": {},
     "output_type": "display_data"
    },
    {
     "data": {
      "image/png": "[encoded data removed]",
      "text/plain": [
       "<Figure size 1125.72x216 with 5 Axes>"
      ]
     },
     "metadata": {},
     "output_type": "display_data"
    }
   ],
   "source": [
    "sns.set(font_scale=1)\n",
    "sns.set_style(\"ticks\")\n",
    "sns.despine()\n",
    "\n",
    "animals = ['N01','N09','N17','N25','N33']\n",
    "\n",
    "g = sns.FacetGrid(df_p2p[df_p2p['Animal'].isin(animals)], col=\"Animal\")\n",
    "g = (g.map(sns.scatterplot, \"Stim_Amplitude\", \"p2p_amplitude\", 'Day_Stim', palette='viridis',s=20).add_legend())"
   ]
  },
  {
   "cell_type": "code",
   "execution_count": 49,
   "metadata": {},
   "outputs": [
    {
     "data": {
      "text/plain": [
       "<Figure size 432x288 with 0 Axes>"
      ]
     },
     "metadata": {},
     "output_type": "display_data"
    },
    {
     "data": {
      "image/png": "[encoded data removed]",
      "text/plain": [
       "<Figure size 1125.72x216 with 5 Axes>"
      ]
     },
     "metadata": {},
     "output_type": "display_data"
    }
   ],
   "source": [
    "sns.set(font_scale=1)\n",
    "sns.set_style(\"ticks\")\n",
    "sns.despine()\n",
    "\n",
    "animals = ['N01','N09','N17','N25','N33']\n",
    "\n",
    "g = sns.FacetGrid(df_p2p_scaled[df_p2p_scaled['Animal'].isin(animals)], col=\"Animal\")\n",
    "g = (g.map(sns.scatterplot, \"Stim_Amplitude\", \"p2p_amplitude_scaled\", 'Day_Stim', palette='viridis',s=20).add_legend())\n"
   ]
  },
  {
   "cell_type": "code",
   "execution_count": 48,
   "metadata": {},
   "outputs": [
    {
     "data": {
      "text/plain": [
       "<Figure size 432x288 with 0 Axes>"
      ]
     },
     "metadata": {},
     "output_type": "display_data"
    },
    {
     "data": {
      "image/png": "[encoded data removed]",
      "text/plain": [
       "<Figure size 1125.72x216 with 5 Axes>"
      ]
     },
     "metadata": {},
     "output_type": "display_data"
    }
   ],
   "source": [
    "sns.set(font_scale=1)\n",
    "sns.set_style(\"ticks\")\n",
    "sns.despine()\n",
    "\n",
    "animals = ['N01','N09','N17','N25','N33']\n",
    "\n",
    "g = sns.FacetGrid(df_p2p_ratio_max[df_p2p_ratio_max['Animal'].isin(animals)], col=\"Animal\")\n",
    "g = (g.map(sns.scatterplot, \"Stim_Amplitude\", \"p2p_amplitude_ratio_max\", 'Day_Stim', palette='viridis',s=20).add_legend())\n"
   ]
  },
  {
   "cell_type": "markdown",
   "metadata": {},
   "source": [
    "#### Exploration of # hours before stim variable"
   ]
  },
  {
   "cell_type": "code",
   "execution_count": 23,
   "metadata": {},
   "outputs": [
    {
     "data": {
      "text/html": [
       "<div>\n",
       "<style scoped>\n",
       "    .dataframe tbody tr th:only-of-type {\n",
       "        vertical-align: middle;\n",
       "    }\n",
       "\n",
       "    .dataframe tbody tr th {\n",
       "        vertical-align: top;\n",
       "    }\n",
       "\n",
       "    .dataframe thead th {\n",
       "        text-align: right;\n",
       "    }\n",
       "</style>\n",
       "<table border=\"1\" class=\"dataframe\">\n",
       "  <thead>\n",
       "    <tr style=\"text-align: right;\">\n",
       "      <th></th>\n",
       "      <th>Animal</th>\n",
       "      <th>Day_Stim</th>\n",
       "      <th>Stim_Amplitude</th>\n",
       "      <th>p2p_amplitude_ratio_max</th>\n",
       "      <th>Group</th>\n",
       "    </tr>\n",
       "  </thead>\n",
       "  <tbody>\n",
       "    <tr>\n",
       "      <th>0</th>\n",
       "      <td>N01</td>\n",
       "      <td>1</td>\n",
       "      <td>10.0</td>\n",
       "      <td>0.045521</td>\n",
       "      <td>No Injury, Yes Stimulation</td>\n",
       "    </tr>\n",
       "    <tr>\n",
       "      <th>1</th>\n",
       "      <td>N01</td>\n",
       "      <td>1</td>\n",
       "      <td>20.0</td>\n",
       "      <td>0.046879</td>\n",
       "      <td>No Injury, Yes Stimulation</td>\n",
       "    </tr>\n",
       "    <tr>\n",
       "      <th>2</th>\n",
       "      <td>N01</td>\n",
       "      <td>1</td>\n",
       "      <td>30.0</td>\n",
       "      <td>0.049342</td>\n",
       "      <td>No Injury, Yes Stimulation</td>\n",
       "    </tr>\n",
       "    <tr>\n",
       "      <th>3</th>\n",
       "      <td>N01</td>\n",
       "      <td>1</td>\n",
       "      <td>40.0</td>\n",
       "      <td>0.063211</td>\n",
       "      <td>No Injury, Yes Stimulation</td>\n",
       "    </tr>\n",
       "    <tr>\n",
       "      <th>4</th>\n",
       "      <td>N01</td>\n",
       "      <td>1</td>\n",
       "      <td>50.0</td>\n",
       "      <td>0.087493</td>\n",
       "      <td>No Injury, Yes Stimulation</td>\n",
       "    </tr>\n",
       "  </tbody>\n",
       "</table>\n",
       "</div>"
      ],
      "text/plain": [
       "  Animal  Day_Stim  Stim_Amplitude  p2p_amplitude_ratio_max  \\\n",
       "0    N01         1            10.0                 0.045521   \n",
       "1    N01         1            20.0                 0.046879   \n",
       "2    N01         1            30.0                 0.049342   \n",
       "3    N01         1            40.0                 0.063211   \n",
       "4    N01         1            50.0                 0.087493   \n",
       "\n",
       "                        Group  \n",
       "0  No Injury, Yes Stimulation  \n",
       "1  No Injury, Yes Stimulation  \n",
       "2  No Injury, Yes Stimulation  \n",
       "3  No Injury, Yes Stimulation  \n",
       "4  No Injury, Yes Stimulation  "
      ]
     },
     "execution_count": 23,
     "metadata": {},
     "output_type": "execute_result"
    }
   ],
   "source": [
    "df_p2p_ratio_max.head()"
   ]
  },
  {
   "cell_type": "code",
   "execution_count": 24,
   "metadata": {},
   "outputs": [],
   "source": [
    "# add column of # hours before stim for each animal\n",
    "recent_animals = ['N27','N28','N29','N30','N31','N32','N33']\n",
    "\n",
    "# set 0 as default for all animals\n",
    "df_p2p_ratio_max[\"Hours_Stim\"] = 0\n",
    "\n",
    "# recent animals got 12h stim before MEPs after baseline day\n",
    "df_p2p_ratio_max.loc[(df_p2p_ratio_max['Animal'].isin(recent_animals)) & (df_p2p_ratio_max['Day_Stim'] > 0), 'Hours_Stim'] = 12\n",
    "\n",
    "# N01\n",
    "df_p2p_ratio_max.loc[(df_p2p_ratio_max['Animal'] == 'N01') & (df_p2p_ratio_max['Day_Stim'] == 2), 'Hours_Stim'] = 5\n",
    "df_p2p_ratio_max.loc[(df_p2p_ratio_max['Animal'] == 'N01') & (df_p2p_ratio_max['Day_Stim'] == 3), 'Hours_Stim'] = 7\n",
    "df_p2p_ratio_max.loc[(df_p2p_ratio_max['Animal'] == 'N01') & (df_p2p_ratio_max['Day_Stim'] == 4), 'Hours_Stim'] = 23\n",
    "\n",
    "# N04\n",
    "df_p2p_ratio_max.loc[(df_p2p_ratio_max['Animal'] == 'N04') & (df_p2p_ratio_max['Day_Stim'] == 2), 'Hours_Stim'] = 7\n",
    "df_p2p_ratio_max.loc[(df_p2p_ratio_max['Animal'] == 'N04') & (df_p2p_ratio_max['Day_Stim'] == 4), 'Hours_Stim'] = 1.5\n",
    "\n",
    "# N05\n",
    "df_p2p_ratio_max.loc[(df_p2p_ratio_max['Animal'] == 'N05') & (df_p2p_ratio_max['Day_Stim'] == 2), 'Hours_Stim'] = 7\n",
    "df_p2p_ratio_max.loc[(df_p2p_ratio_max['Animal'] == 'N05') & (df_p2p_ratio_max['Day_Stim'] == 4), 'Hours_Stim'] = 1.5\n",
    "\n",
    "# N09\n",
    "df_p2p_ratio_max.loc[(df_p2p_ratio_max['Animal'] == 'N09') & (df_p2p_ratio_max['Day_Stim'] == 2), 'Hours_Stim'] = 14\n",
    "df_p2p_ratio_max.loc[(df_p2p_ratio_max['Animal'] == 'N09') & (df_p2p_ratio_max['Day_Stim'] == 3), 'Hours_Stim'] = 21\n",
    "df_p2p_ratio_max.loc[(df_p2p_ratio_max['Animal'] == 'N09') & (df_p2p_ratio_max['Day_Stim'] == 4), 'Hours_Stim'] = 22\n",
    "\n",
    "# N10\n",
    "df_p2p_ratio_max.loc[(df_p2p_ratio_max['Animal'] == 'N10') & (df_p2p_ratio_max['Day_Stim'] == 2), 'Hours_Stim'] = 20\n",
    "df_p2p_ratio_max.loc[(df_p2p_ratio_max['Animal'] == 'N10') & (df_p2p_ratio_max['Day_Stim'] == 3), 'Hours_Stim'] = 22\n",
    "df_p2p_ratio_max.loc[(df_p2p_ratio_max['Animal'] == 'N10') & (df_p2p_ratio_max['Day_Stim'] == 4), 'Hours_Stim'] = 14\n",
    "\n",
    "# N11\n",
    "df_p2p_ratio_max.loc[(df_p2p_ratio_max['Animal'] == 'N11') & (df_p2p_ratio_max['Day_Stim'] == 2), 'Hours_Stim'] = 21\n",
    "df_p2p_ratio_max.loc[(df_p2p_ratio_max['Animal'] == 'N11') & (df_p2p_ratio_max['Day_Stim'] == 3), 'Hours_Stim'] = 22\n",
    "df_p2p_ratio_max.loc[(df_p2p_ratio_max['Animal'] == 'N11') & (df_p2p_ratio_max['Day_Stim'] == 4), 'Hours_Stim'] = 22\n",
    "\n",
    "# N13\n",
    "df_p2p_ratio_max.loc[(df_p2p_ratio_max['Animal'] == 'N13') & (df_p2p_ratio_max['Day_Stim'] == 2), 'Hours_Stim'] = 24\n",
    "df_p2p_ratio_max.loc[(df_p2p_ratio_max['Animal'] == 'N13') & (df_p2p_ratio_max['Day_Stim'] == 3), 'Hours_Stim'] = 28\n",
    "df_p2p_ratio_max.loc[(df_p2p_ratio_max['Animal'] == 'N13') & (df_p2p_ratio_max['Day_Stim'] == 4), 'Hours_Stim'] = 28\n"
   ]
  },
  {
   "cell_type": "code",
   "execution_count": 25,
   "metadata": {},
   "outputs": [
    {
     "data": {
      "text/html": [
       "<div>\n",
       "<style scoped>\n",
       "    .dataframe tbody tr th:only-of-type {\n",
       "        vertical-align: middle;\n",
       "    }\n",
       "\n",
       "    .dataframe tbody tr th {\n",
       "        vertical-align: top;\n",
       "    }\n",
       "\n",
       "    .dataframe thead th {\n",
       "        text-align: right;\n",
       "    }\n",
       "</style>\n",
       "<table border=\"1\" class=\"dataframe\">\n",
       "  <thead>\n",
       "    <tr style=\"text-align: right;\">\n",
       "      <th></th>\n",
       "      <th>Animal</th>\n",
       "      <th>Day_Stim</th>\n",
       "      <th>Stim_Amplitude</th>\n",
       "      <th>p2p_amplitude_ratio_max</th>\n",
       "      <th>Group</th>\n",
       "      <th>Hours_Stim</th>\n",
       "    </tr>\n",
       "  </thead>\n",
       "  <tbody>\n",
       "    <tr>\n",
       "      <th>3697</th>\n",
       "      <td>N33</td>\n",
       "      <td>4</td>\n",
       "      <td>560.0</td>\n",
       "      <td>0.543501</td>\n",
       "      <td>No Injury, Yes Stimulation</td>\n",
       "      <td>12.0</td>\n",
       "    </tr>\n",
       "    <tr>\n",
       "      <th>3698</th>\n",
       "      <td>N33</td>\n",
       "      <td>4</td>\n",
       "      <td>570.0</td>\n",
       "      <td>0.797188</td>\n",
       "      <td>No Injury, Yes Stimulation</td>\n",
       "      <td>12.0</td>\n",
       "    </tr>\n",
       "    <tr>\n",
       "      <th>3699</th>\n",
       "      <td>N33</td>\n",
       "      <td>4</td>\n",
       "      <td>580.0</td>\n",
       "      <td>0.808709</td>\n",
       "      <td>No Injury, Yes Stimulation</td>\n",
       "      <td>12.0</td>\n",
       "    </tr>\n",
       "    <tr>\n",
       "      <th>3700</th>\n",
       "      <td>N33</td>\n",
       "      <td>4</td>\n",
       "      <td>590.0</td>\n",
       "      <td>0.725385</td>\n",
       "      <td>No Injury, Yes Stimulation</td>\n",
       "      <td>12.0</td>\n",
       "    </tr>\n",
       "    <tr>\n",
       "      <th>3701</th>\n",
       "      <td>N33</td>\n",
       "      <td>4</td>\n",
       "      <td>600.0</td>\n",
       "      <td>0.603753</td>\n",
       "      <td>No Injury, Yes Stimulation</td>\n",
       "      <td>12.0</td>\n",
       "    </tr>\n",
       "  </tbody>\n",
       "</table>\n",
       "</div>"
      ],
      "text/plain": [
       "     Animal  Day_Stim  Stim_Amplitude  p2p_amplitude_ratio_max  \\\n",
       "3697    N33         4           560.0                 0.543501   \n",
       "3698    N33         4           570.0                 0.797188   \n",
       "3699    N33         4           580.0                 0.808709   \n",
       "3700    N33         4           590.0                 0.725385   \n",
       "3701    N33         4           600.0                 0.603753   \n",
       "\n",
       "                           Group  Hours_Stim  \n",
       "3697  No Injury, Yes Stimulation        12.0  \n",
       "3698  No Injury, Yes Stimulation        12.0  \n",
       "3699  No Injury, Yes Stimulation        12.0  \n",
       "3700  No Injury, Yes Stimulation        12.0  \n",
       "3701  No Injury, Yes Stimulation        12.0  "
      ]
     },
     "execution_count": 25,
     "metadata": {},
     "output_type": "execute_result"
    }
   ],
   "source": [
    "df_p2p_ratio_max.tail()"
   ]
  },
  {
   "cell_type": "code",
   "execution_count": 26,
   "metadata": {},
   "outputs": [
    {
     "data": {
      "text/plain": [
       "Animal\n",
       "N01      [0.0, 5.0, 7.0, 23.0]\n",
       "N04            [0.0, 7.0, 1.5]\n",
       "N05            [0.0, 7.0, 1.5]\n",
       "N09    [0.0, 14.0, 21.0, 22.0]\n",
       "N10    [0.0, 20.0, 22.0, 14.0]\n",
       "N11          [0.0, 21.0, 22.0]\n",
       "N13          [0.0, 24.0, 28.0]\n",
       "N14                      [0.0]\n",
       "N15                      [0.0]\n",
       "N16                      [0.0]\n",
       "N17                      [0.0]\n",
       "N19                      [0.0]\n",
       "N20                      [0.0]\n",
       "N21                      [0.0]\n",
       "N22                      [0.0]\n",
       "N23                      [0.0]\n",
       "N24                      [0.0]\n",
       "N25                      [0.0]\n",
       "N26                      [0.0]\n",
       "N27                     [12.0]\n",
       "N28                     [12.0]\n",
       "N30                     [12.0]\n",
       "N31                     [12.0]\n",
       "N32                     [12.0]\n",
       "N33                     [12.0]\n",
       "Name: Hours_Stim, dtype: object"
      ]
     },
     "execution_count": 26,
     "metadata": {},
     "output_type": "execute_result"
    }
   ],
   "source": [
    "df_p2p_ratio_max.groupby(['Animal'])['Hours_Stim'].unique()"
   ]
  },
  {
   "cell_type": "code",
   "execution_count": 27,
   "metadata": {},
   "outputs": [
    {
     "ename": "KeyError",
     "evalue": "\"['p2p_ratio_max'] not in index\"",
     "output_type": "error",
     "traceback": [
      "\u001b[1;31m---------------------------------------------------------------------------\u001b[0m",
      "\u001b[1;31mKeyError\u001b[0m                                  Traceback (most recent call last)",
      "\u001b[1;32m<ipython-input-27-d85080b8c121>\u001b[0m in \u001b[0;36m<module>\u001b[1;34m\u001b[0m\n\u001b[1;32m----> 1\u001b[1;33m sns.lmplot(x=\"Hours_Stim\", y=\"p2p_ratio_max\", col=\"Day_Stim\", data=df_p2p_ratio_max[(df_p2p_ratio_max['Group']=='Yes Injury, Yes Stimulation')],\n\u001b[0m\u001b[0;32m      2\u001b[0m            \u001b[0mcol_wrap\u001b[0m\u001b[1;33m=\u001b[0m\u001b[1;36m2\u001b[0m\u001b[1;33m,\u001b[0m \u001b[0mci\u001b[0m\u001b[1;33m=\u001b[0m\u001b[1;36m95\u001b[0m\u001b[1;33m,\u001b[0m \u001b[0mpalette\u001b[0m\u001b[1;33m=\u001b[0m\u001b[1;34m\"muted\"\u001b[0m\u001b[1;33m,\u001b[0m \u001b[0mheight\u001b[0m\u001b[1;33m=\u001b[0m\u001b[1;36m4\u001b[0m\u001b[1;33m,\u001b[0m\u001b[1;33m\u001b[0m\u001b[1;33m\u001b[0m\u001b[0m\n\u001b[0;32m      3\u001b[0m            scatter_kws={\"s\": 50, \"alpha\": 0.3})\n",
      "\u001b[1;32m~\\anaconda3\\lib\\site-packages\\seaborn\\_decorators.py\u001b[0m in \u001b[0;36minner_f\u001b[1;34m(*args, **kwargs)\u001b[0m\n\u001b[0;32m     44\u001b[0m             )\n\u001b[0;32m     45\u001b[0m         \u001b[0mkwargs\u001b[0m\u001b[1;33m.\u001b[0m\u001b[0mupdate\u001b[0m\u001b[1;33m(\u001b[0m\u001b[1;33m{\u001b[0m\u001b[0mk\u001b[0m\u001b[1;33m:\u001b[0m \u001b[0marg\u001b[0m \u001b[1;32mfor\u001b[0m \u001b[0mk\u001b[0m\u001b[1;33m,\u001b[0m \u001b[0marg\u001b[0m \u001b[1;32min\u001b[0m \u001b[0mzip\u001b[0m\u001b[1;33m(\u001b[0m\u001b[0msig\u001b[0m\u001b[1;33m.\u001b[0m\u001b[0mparameters\u001b[0m\u001b[1;33m,\u001b[0m \u001b[0margs\u001b[0m\u001b[1;33m)\u001b[0m\u001b[1;33m}\u001b[0m\u001b[1;33m)\u001b[0m\u001b[1;33m\u001b[0m\u001b[1;33m\u001b[0m\u001b[0m\n\u001b[1;32m---> 46\u001b[1;33m         \u001b[1;32mreturn\u001b[0m \u001b[0mf\u001b[0m\u001b[1;33m(\u001b[0m\u001b[1;33m**\u001b[0m\u001b[0mkwargs\u001b[0m\u001b[1;33m)\u001b[0m\u001b[1;33m\u001b[0m\u001b[1;33m\u001b[0m\u001b[0m\n\u001b[0m\u001b[0;32m     47\u001b[0m     \u001b[1;32mreturn\u001b[0m \u001b[0minner_f\u001b[0m\u001b[1;33m\u001b[0m\u001b[1;33m\u001b[0m\u001b[0m\n\u001b[0;32m     48\u001b[0m \u001b[1;33m\u001b[0m\u001b[0m\n",
      "\u001b[1;32m~\\anaconda3\\lib\\site-packages\\seaborn\\regression.py\u001b[0m in \u001b[0;36mlmplot\u001b[1;34m(x, y, data, hue, col, row, palette, col_wrap, height, aspect, markers, sharex, sharey, hue_order, col_order, row_order, legend, legend_out, x_estimator, x_bins, x_ci, scatter, fit_reg, ci, n_boot, units, seed, order, logistic, lowess, robust, logx, x_partial, y_partial, truncate, x_jitter, y_jitter, scatter_kws, line_kws, size)\u001b[0m\n\u001b[0;32m    586\u001b[0m     \u001b[0mneed_cols\u001b[0m \u001b[1;33m=\u001b[0m \u001b[1;33m[\u001b[0m\u001b[0mx\u001b[0m\u001b[1;33m,\u001b[0m \u001b[0my\u001b[0m\u001b[1;33m,\u001b[0m \u001b[0mhue\u001b[0m\u001b[1;33m,\u001b[0m \u001b[0mcol\u001b[0m\u001b[1;33m,\u001b[0m \u001b[0mrow\u001b[0m\u001b[1;33m,\u001b[0m \u001b[0munits\u001b[0m\u001b[1;33m,\u001b[0m \u001b[0mx_partial\u001b[0m\u001b[1;33m,\u001b[0m \u001b[0my_partial\u001b[0m\u001b[1;33m]\u001b[0m\u001b[1;33m\u001b[0m\u001b[1;33m\u001b[0m\u001b[0m\n\u001b[0;32m    587\u001b[0m     \u001b[0mcols\u001b[0m \u001b[1;33m=\u001b[0m \u001b[0mnp\u001b[0m\u001b[1;33m.\u001b[0m\u001b[0munique\u001b[0m\u001b[1;33m(\u001b[0m\u001b[1;33m[\u001b[0m\u001b[0ma\u001b[0m \u001b[1;32mfor\u001b[0m \u001b[0ma\u001b[0m \u001b[1;32min\u001b[0m \u001b[0mneed_cols\u001b[0m \u001b[1;32mif\u001b[0m \u001b[0ma\u001b[0m \u001b[1;32mis\u001b[0m \u001b[1;32mnot\u001b[0m \u001b[1;32mNone\u001b[0m\u001b[1;33m]\u001b[0m\u001b[1;33m)\u001b[0m\u001b[1;33m.\u001b[0m\u001b[0mtolist\u001b[0m\u001b[1;33m(\u001b[0m\u001b[1;33m)\u001b[0m\u001b[1;33m\u001b[0m\u001b[1;33m\u001b[0m\u001b[0m\n\u001b[1;32m--> 588\u001b[1;33m     \u001b[0mdata\u001b[0m \u001b[1;33m=\u001b[0m \u001b[0mdata\u001b[0m\u001b[1;33m[\u001b[0m\u001b[0mcols\u001b[0m\u001b[1;33m]\u001b[0m\u001b[1;33m\u001b[0m\u001b[1;33m\u001b[0m\u001b[0m\n\u001b[0m\u001b[0;32m    589\u001b[0m \u001b[1;33m\u001b[0m\u001b[0m\n\u001b[0;32m    590\u001b[0m     \u001b[1;31m# Initialize the grid\u001b[0m\u001b[1;33m\u001b[0m\u001b[1;33m\u001b[0m\u001b[1;33m\u001b[0m\u001b[0m\n",
      "\u001b[1;32m~\\anaconda3\\lib\\site-packages\\pandas\\core\\frame.py\u001b[0m in \u001b[0;36m__getitem__\u001b[1;34m(self, key)\u001b[0m\n\u001b[0;32m   3028\u001b[0m             \u001b[1;32mif\u001b[0m \u001b[0mis_iterator\u001b[0m\u001b[1;33m(\u001b[0m\u001b[0mkey\u001b[0m\u001b[1;33m)\u001b[0m\u001b[1;33m:\u001b[0m\u001b[1;33m\u001b[0m\u001b[1;33m\u001b[0m\u001b[0m\n\u001b[0;32m   3029\u001b[0m                 \u001b[0mkey\u001b[0m \u001b[1;33m=\u001b[0m \u001b[0mlist\u001b[0m\u001b[1;33m(\u001b[0m\u001b[0mkey\u001b[0m\u001b[1;33m)\u001b[0m\u001b[1;33m\u001b[0m\u001b[1;33m\u001b[0m\u001b[0m\n\u001b[1;32m-> 3030\u001b[1;33m             \u001b[0mindexer\u001b[0m \u001b[1;33m=\u001b[0m \u001b[0mself\u001b[0m\u001b[1;33m.\u001b[0m\u001b[0mloc\u001b[0m\u001b[1;33m.\u001b[0m\u001b[0m_get_listlike_indexer\u001b[0m\u001b[1;33m(\u001b[0m\u001b[0mkey\u001b[0m\u001b[1;33m,\u001b[0m \u001b[0maxis\u001b[0m\u001b[1;33m=\u001b[0m\u001b[1;36m1\u001b[0m\u001b[1;33m,\u001b[0m \u001b[0mraise_missing\u001b[0m\u001b[1;33m=\u001b[0m\u001b[1;32mTrue\u001b[0m\u001b[1;33m)\u001b[0m\u001b[1;33m[\u001b[0m\u001b[1;36m1\u001b[0m\u001b[1;33m]\u001b[0m\u001b[1;33m\u001b[0m\u001b[1;33m\u001b[0m\u001b[0m\n\u001b[0m\u001b[0;32m   3031\u001b[0m \u001b[1;33m\u001b[0m\u001b[0m\n\u001b[0;32m   3032\u001b[0m         \u001b[1;31m# take() does not accept boolean indexers\u001b[0m\u001b[1;33m\u001b[0m\u001b[1;33m\u001b[0m\u001b[1;33m\u001b[0m\u001b[0m\n",
      "\u001b[1;32m~\\anaconda3\\lib\\site-packages\\pandas\\core\\indexing.py\u001b[0m in \u001b[0;36m_get_listlike_indexer\u001b[1;34m(self, key, axis, raise_missing)\u001b[0m\n\u001b[0;32m   1264\u001b[0m             \u001b[0mkeyarr\u001b[0m\u001b[1;33m,\u001b[0m \u001b[0mindexer\u001b[0m\u001b[1;33m,\u001b[0m \u001b[0mnew_indexer\u001b[0m \u001b[1;33m=\u001b[0m \u001b[0max\u001b[0m\u001b[1;33m.\u001b[0m\u001b[0m_reindex_non_unique\u001b[0m\u001b[1;33m(\u001b[0m\u001b[0mkeyarr\u001b[0m\u001b[1;33m)\u001b[0m\u001b[1;33m\u001b[0m\u001b[1;33m\u001b[0m\u001b[0m\n\u001b[0;32m   1265\u001b[0m \u001b[1;33m\u001b[0m\u001b[0m\n\u001b[1;32m-> 1266\u001b[1;33m         \u001b[0mself\u001b[0m\u001b[1;33m.\u001b[0m\u001b[0m_validate_read_indexer\u001b[0m\u001b[1;33m(\u001b[0m\u001b[0mkeyarr\u001b[0m\u001b[1;33m,\u001b[0m \u001b[0mindexer\u001b[0m\u001b[1;33m,\u001b[0m \u001b[0maxis\u001b[0m\u001b[1;33m,\u001b[0m \u001b[0mraise_missing\u001b[0m\u001b[1;33m=\u001b[0m\u001b[0mraise_missing\u001b[0m\u001b[1;33m)\u001b[0m\u001b[1;33m\u001b[0m\u001b[1;33m\u001b[0m\u001b[0m\n\u001b[0m\u001b[0;32m   1267\u001b[0m         \u001b[1;32mreturn\u001b[0m \u001b[0mkeyarr\u001b[0m\u001b[1;33m,\u001b[0m \u001b[0mindexer\u001b[0m\u001b[1;33m\u001b[0m\u001b[1;33m\u001b[0m\u001b[0m\n\u001b[0;32m   1268\u001b[0m \u001b[1;33m\u001b[0m\u001b[0m\n",
      "\u001b[1;32m~\\anaconda3\\lib\\site-packages\\pandas\\core\\indexing.py\u001b[0m in \u001b[0;36m_validate_read_indexer\u001b[1;34m(self, key, indexer, axis, raise_missing)\u001b[0m\n\u001b[0;32m   1314\u001b[0m             \u001b[1;32mif\u001b[0m \u001b[0mraise_missing\u001b[0m\u001b[1;33m:\u001b[0m\u001b[1;33m\u001b[0m\u001b[1;33m\u001b[0m\u001b[0m\n\u001b[0;32m   1315\u001b[0m                 \u001b[0mnot_found\u001b[0m \u001b[1;33m=\u001b[0m \u001b[0mlist\u001b[0m\u001b[1;33m(\u001b[0m\u001b[0mset\u001b[0m\u001b[1;33m(\u001b[0m\u001b[0mkey\u001b[0m\u001b[1;33m)\u001b[0m \u001b[1;33m-\u001b[0m \u001b[0mset\u001b[0m\u001b[1;33m(\u001b[0m\u001b[0max\u001b[0m\u001b[1;33m)\u001b[0m\u001b[1;33m)\u001b[0m\u001b[1;33m\u001b[0m\u001b[1;33m\u001b[0m\u001b[0m\n\u001b[1;32m-> 1316\u001b[1;33m                 \u001b[1;32mraise\u001b[0m \u001b[0mKeyError\u001b[0m\u001b[1;33m(\u001b[0m\u001b[1;34mf\"{not_found} not in index\"\u001b[0m\u001b[1;33m)\u001b[0m\u001b[1;33m\u001b[0m\u001b[1;33m\u001b[0m\u001b[0m\n\u001b[0m\u001b[0;32m   1317\u001b[0m \u001b[1;33m\u001b[0m\u001b[0m\n\u001b[0;32m   1318\u001b[0m             \u001b[0mnot_found\u001b[0m \u001b[1;33m=\u001b[0m \u001b[0mkey\u001b[0m\u001b[1;33m[\u001b[0m\u001b[0mmissing_mask\u001b[0m\u001b[1;33m]\u001b[0m\u001b[1;33m\u001b[0m\u001b[1;33m\u001b[0m\u001b[0m\n",
      "\u001b[1;31mKeyError\u001b[0m: \"['p2p_ratio_max'] not in index\""
     ]
    }
   ],
   "source": [
    "sns.lmplot(x=\"Hours_Stim\", y=\"p2p_ratio_max\", col=\"Day_Stim\", data=df_p2p_ratio_max[(df_p2p_ratio_max['Group']=='Yes Injury, Yes Stimulation')],\n",
    "           col_wrap=2, ci=95, palette=\"muted\", height=4,\n",
    "           scatter_kws={\"s\": 50, \"alpha\": 0.3})"
   ]
  },
  {
   "cell_type": "code",
   "execution_count": null,
   "metadata": {},
   "outputs": [],
   "source": [
    "import statsmodels.api as sm\n",
    "\n",
    "df_ols = df_p2p_ratio_max[(df_p2p_ratio_max['Group']=='Yes Injury, Yes Stimulation') & (df_p2p_ratio_max['Day_Stim']==2)]\n",
    "\n",
    "X=df_ols['Hours_Stim']\n",
    "Y=df_ols['p2p_ratio_max']\n",
    "X = sm.add_constant(X) # add intercept\n",
    "\n",
    "model = sm.OLS(Y, X).fit()\n",
    "predictions = model.predict(X) \n",
    "\n",
    "print_model = model.summary()\n",
    "print(print_model)"
   ]
  },
  {
   "cell_type": "code",
   "execution_count": null,
   "metadata": {},
   "outputs": [],
   "source": [
    "sns.lmplot(x=\"Stim_Amplitude\", y=\"p2p_ratio_max\", col=\"Day_Stim\", data=df_p2p_ratio_max[(df_p2p_ratio_max['Group']=='Yes Injury, Yes Stimulation')],\n",
    "           col_wrap=2, ci=95, palette=\"muted\", height=4,\n",
    "           scatter_kws={\"s\": 50, \"alpha\": 0.3})"
   ]
  },
  {
   "cell_type": "code",
   "execution_count": null,
   "metadata": {},
   "outputs": [],
   "source": [
    "df_ols = df_p2p_ratio_max[(df_p2p_ratio_max['Group']=='Yes Injury, Yes Stimulation') & (df_p2p_ratio_max['Day_Stim']==4)]\n",
    "\n",
    "X=df_ols['Stim_Amplitude']\n",
    "Y=df_ols['p2p_ratio_max']\n",
    "X = sm.add_constant(X) # add intercept\n",
    "\n",
    "model = sm.OLS(Y, X).fit()\n",
    "predictions = model.predict(X) \n",
    "\n",
    "print_model = model.summary()\n",
    "print(print_model)\n"
   ]
  },
  {
   "cell_type": "code",
   "execution_count": null,
   "metadata": {},
   "outputs": [],
   "source": [
    "sns.lmplot(x=\"Hours_Stim\", y=\"p2p_ratio_max\", col=\"Day_Stim\", data=df_p2p_ratio_max[df_p2p_ratio_max['Group']=='No Injury, Yes Stimulation'],\n",
    "           col_wrap=2, ci=95, palette=\"muted\", height=4,\n",
    "           scatter_kws={\"s\": 50, \"alpha\": 0.3})"
   ]
  },
  {
   "cell_type": "code",
   "execution_count": null,
   "metadata": {},
   "outputs": [],
   "source": [
    "sns.set(font_scale=1)\n",
    "stim_amps = [100, 150, 200, 250, 300, 350, 400, 450, 500, 550]\n",
    "\n",
    "sns.lmplot(x=\"Hours_Stim\", y=\"p2p_ratio_max\", col=\"Stim_Amplitude\", data=df_p2p_ratio_max[(df_p2p_ratio_max['Group']=='No Injury, Yes Stimulation') & (df_p2p_ratio_max['Stim_Amplitude'].isin(stim_amps))],\n",
    "           col_wrap=2, ci=95, palette=\"muted\", height=4,\n",
    "           scatter_kws={\"s\": 50, \"alpha\": 0.3})"
   ]
  },
  {
   "cell_type": "code",
   "execution_count": null,
   "metadata": {},
   "outputs": [],
   "source": [
    "df_ols = df_p2p_ratio_max[(df_p2p_ratio_max['Group']=='No Injury, Yes Stimulation') & (df_p2p_ratio_max['Day_Stim']==4)]\n",
    "\n",
    "X=df_ols['Hours_Stim']\n",
    "Y=df_ols['p2p_ratio_max']\n",
    "X = sm.add_constant(X) # add intercept\n",
    "\n",
    "model = sm.OLS(Y, X).fit()\n",
    "predictions = model.predict(X) \n",
    "\n",
    "print_model = model.summary()\n",
    "print(print_model)"
   ]
  },
  {
   "cell_type": "code",
   "execution_count": null,
   "metadata": {},
   "outputs": [],
   "source": []
  },
  {
   "cell_type": "code",
   "execution_count": null,
   "metadata": {},
   "outputs": [],
   "source": [
    "df_p2p_ratio_max.head()"
   ]
  },
  {
   "cell_type": "code",
   "execution_count": null,
   "metadata": {},
   "outputs": [],
   "source": [
    "# stim_amp_list = [200, 250, 300, 350, 400, 450, 500, 600]\n",
    "\n",
    "# sns.set(font_scale=1)\n",
    "# sns.set_style(\"ticks\")\n",
    "# sns.despine()\n",
    "# plt.figure(figsize=(20,12))\n",
    "\n",
    "# plt.figure(figsize=(20,20))\n",
    "# sns.set_style(\"ticks\")\n",
    "# g = sns.FacetGrid(df_p2p_ratio_max[df_p2p_ratio_max['Stim_Amplitude'].isin(stim_amp_list)], col=\"Group\")\n",
    "# g = (g.map(sns.scatterplot, \"Stim_Amplitude\", \"p2p_ratio_max\", 'Day_Stim').add_legend())"
   ]
  },
  {
   "cell_type": "code",
   "execution_count": null,
   "metadata": {},
   "outputs": [],
   "source": [
    "sns.lmplot(x=\"Stim_Amplitude\", y=\"p2p_ratio_max\", col=\"Group\", hue=\"Day_Stim\", data=df_p2p_ratio_max,\n",
    "           col_wrap=2, ci=95, palette=\"muted\", height=4,\n",
    "           scatter_kws={\"s\": 50, \"alpha\": 0.1})"
   ]
  },
  {
   "cell_type": "markdown",
   "metadata": {},
   "source": [
    "#### Look at p2p for each animal and each side"
   ]
  },
  {
   "cell_type": "code",
   "execution_count": null,
   "metadata": {},
   "outputs": [],
   "source": [
    "df_p2p_ratio_max.head()"
   ]
  },
  {
   "cell_type": "code",
   "execution_count": null,
   "metadata": {},
   "outputs": [],
   "source": [
    "# g = sns.FacetGrid(df_p2p_ratio_max, col='Side', row='Animal', hue='Day_Stim')\n",
    "# g.map_dataframe(sns.scatterplot, x='Stim_Amplitude', y='p2p_ratio_max')\n",
    "# g.add_legend()"
   ]
  },
  {
   "cell_type": "markdown",
   "metadata": {},
   "source": [
    "#### Fit lines by group and day to visualize change over time (and stim amplitude) for each group"
   ]
  },
  {
   "cell_type": "code",
   "execution_count": null,
   "metadata": {},
   "outputs": [],
   "source": [
    "# plt.figure(figsize=(20,12))\n",
    "# sns.set(font_scale=2.8)\n",
    "# sns.set_style(\"ticks\")\n",
    "# sns.despine()\n",
    "# df_nice_plot = df_p2p_ratio_max.copy()\n",
    "# df_nice_plot = df_nice_plot.rename(columns={\"Day_Stim\": \"Day\", \"p2p_ratio_max\": \"Normalized Peak to Peak Amplitude\", \n",
    "#                                                     \"Stim_Amplitude\": \"Stimulus Amplitude (μA)\"})\n",
    "# ax = sns.lmplot(x=\"Stimulus Amplitude (μA)\", y=\"Normalized Peak to Peak Amplitude\", col=\"Group\", hue=\"Day\", data=df_nice_plot,\n",
    "#            col_wrap=2, order=1, ci=95, palette=\"muted\", height=8,\n",
    "#            scatter_kws={\"s\": 50, \"alpha\": 0.3})\n",
    "# ax.savefig(\"D:\\\\groupmainfig.png\")"
   ]
  },
  {
   "cell_type": "markdown",
   "metadata": {},
   "source": [
    "## Feature exploration and importance for peak-to-peak amplitude\n"
   ]
  },
  {
   "cell_type": "code",
   "execution_count": null,
   "metadata": {},
   "outputs": [],
   "source": [
    "sns.lmplot(data=df_p2p_ratio_max, x=\"Stim_Amplitude\", y=\"p2p_ratio_max\")"
   ]
  },
  {
   "cell_type": "code",
   "execution_count": null,
   "metadata": {},
   "outputs": [],
   "source": [
    "sns.lmplot(data=df_p2p_ratio_max, x=\"Stim_Amplitude\", y=\"p2p_ratio_max\", hue=\"Group\")"
   ]
  },
  {
   "cell_type": "code",
   "execution_count": null,
   "metadata": {},
   "outputs": [],
   "source": [
    "sns.lmplot(data=df_p2p_ratio_max, x=\"Day_Stim\", y=\"p2p_ratio_max\")"
   ]
  },
  {
   "cell_type": "code",
   "execution_count": null,
   "metadata": {},
   "outputs": [],
   "source": [
    "sns.violinplot(data=df_p2p_ratio_max, x=\"Day_Stim\", y=\"p2p_ratio_max\")"
   ]
  },
  {
   "cell_type": "code",
   "execution_count": null,
   "metadata": {},
   "outputs": [],
   "source": [
    "sns.lmplot(data=df_p2p_ratio_max, x=\"Day_Stim\", y=\"p2p_ratio_max\", hue=\"Group\")"
   ]
  },
  {
   "cell_type": "code",
   "execution_count": null,
   "metadata": {},
   "outputs": [],
   "source": [
    "sns.violinplot(data=df_p2p_ratio_max, x=\"Day_Stim\", y=\"p2p_ratio_max\", hue=\"Group\")"
   ]
  },
  {
   "cell_type": "code",
   "execution_count": null,
   "metadata": {},
   "outputs": [],
   "source": [
    "# is there a systematic difference across data of data collection?\n",
    "# ie. are earlier animals difference than later animals\n",
    "\n",
    "df_animalnumber = df_p2p_ratio_max.copy()\n",
    "df_animalnumber['Animal'] = df_animalnumber['Animal'].str[1:].astype('int64')\n",
    "sns.lmplot(data=df_animalnumber, x=\"Animal\", y=\"p2p_ratio_max\")"
   ]
  },
  {
   "cell_type": "code",
   "execution_count": null,
   "metadata": {},
   "outputs": [],
   "source": [
    "sns.lmplot(data=df_animalnumber, x=\"Animal\", y=\"p2p_ratio_max\", hue=\"Group\")"
   ]
  },
  {
   "cell_type": "code",
   "execution_count": null,
   "metadata": {},
   "outputs": [],
   "source": [
    "df_p2p_ratio_max.head()"
   ]
  },
  {
   "cell_type": "code",
   "execution_count": null,
   "metadata": {},
   "outputs": [],
   "source": [
    "# df_kbest = df_animalnumber.copy()\n",
    "# df_kbest = df_kbest.drop(columns=['Side'])\n",
    "\n",
    "# # from sklearn.feature_selection import SelectKBest\n",
    "# # from sklearn.feature_selection import chi2\n",
    "# # X = df_kbest.iloc[:,[0,1,2,4]]  #independent columns\n",
    "# # y = df_kbest.iloc[:,3]    #target column i.e price range\n",
    "# # #apply SelectKBest class to extract top 10 best features\n",
    "# # bestfeatures = SelectKBest(score_func=chi2, k=10)\n",
    "# # fit = bestfeatures.fit(X,y)\n",
    "# # dfscores = pd.DataFrame(fit.scores_)\n",
    "# # dfcolumns = pd.DataFrame(X.columns)\n",
    "# # #concat two dataframes for better visualization \n",
    "# # featureScores = pd.concat([dfcolumns,dfscores],axis=1)\n",
    "# # featureScores.columns = ['Specs','Score']  #naming the dataframe columns\n",
    "# # print(featureScores.nlargest(10,'Score'))  #print 10 best features\n",
    "\n",
    "\n",
    "# X = df_animalnumber.iloc[:,[0,1,2,3,5]]  #independent columns\n",
    "# y = df_animalnumber.iloc[:,4]    #target column i.e price range\n",
    "# from sklearn.ensemble import ExtraTreesClassifier\n",
    "# import matplotlib.pyplot as plt\n",
    "# model = ExtraTreesClassifier()\n",
    "# model.fit(X,y)\n",
    "# print(model.feature_importances_) #use inbuilt class feature_importances of tree based classifiers\n",
    "# #plot graph of feature importances for better visualization\n",
    "# feat_importances = pd.Series(model.feature_importances_, index=X.columns)\n",
    "# feat_importances.nlargest(10).plot(kind='barh')\n",
    "# plt.show()"
   ]
  },
  {
   "cell_type": "markdown",
   "metadata": {},
   "source": [
    "## Peak-to-peak latency analysis (3.75 ms time bins)"
   ]
  },
  {
   "cell_type": "code",
   "execution_count": null,
   "metadata": {},
   "outputs": [],
   "source": [
    "# df_bin = df_sta_noart[df_sta_noart['Time'] <= 15].copy()\n",
    "# df_bin['Bin'] = pd.cut(df_bin.Time, \n",
    "#                 bins=[0,3.75,7.5,11.25], \n",
    "#                 include_lowest=True, \n",
    "#                 labels=['0-3.75ms','3.75-7.5ms','7.5-11.25ms'])\n",
    "# df_bin = df_bin.dropna()\n",
    "# df_bin.head()"
   ]
  },
  {
   "cell_type": "code",
   "execution_count": null,
   "metadata": {},
   "outputs": [],
   "source": [
    "# df_p2p_latency = df_bin.copy()\n",
    "# df_p2p_latency = df_p2p_latency.groupby(['Animal', 'Day_Stim', 'Stim_Amplitude', 'Bin'])['STA_Amplitude'].apply(lambda x: x.max() + abs(x.min())).reset_index().rename(columns={'STA_Amplitude':'p2p_amplitude'})\n",
    "# df_p2p_latency.head()"
   ]
  },
  {
   "cell_type": "code",
   "execution_count": null,
   "metadata": {},
   "outputs": [],
   "source": [
    "# df_p2p_latency = df_p2p_latency.merge(df_p2p_latency.groupby(['Animal'])['p2p_amplitude'].max(), on='Animal', how='left')\n",
    "# df_p2p_latency['p2p_ratio_max'] = df_p2p_latency['p2p_amplitude_x'] / df_p2p_latency['p2p_amplitude_y']\n",
    "# df_p2p_latency = df_p2p_latency.drop(columns=['p2p_amplitude_x', 'p2p_amplitude_y'])\n",
    "# df_p2p_latency.head()"
   ]
  },
  {
   "cell_type": "code",
   "execution_count": null,
   "metadata": {},
   "outputs": [],
   "source": [
    "# add_group(df_p2p_latency)\n",
    "# df_p2p_latency.head()"
   ]
  },
  {
   "cell_type": "code",
   "execution_count": null,
   "metadata": {},
   "outputs": [],
   "source": [
    "# df_p2p_latency_mean = df_p2p_latency.groupby(['Group', 'Day_Stim', 'Stim_Amplitude', 'Bin'])['p2p_ratio_max'].agg('mean').reset_index().rename(columns={'p2p_ratio_max':'mean_p2p_ratio_max'}).copy()\n",
    "# df_p2p_latency_mean.head()"
   ]
  },
  {
   "cell_type": "code",
   "execution_count": null,
   "metadata": {},
   "outputs": [],
   "source": [
    "# df_p2p_latency_mean['Day_Stim'].unique()"
   ]
  },
  {
   "cell_type": "markdown",
   "metadata": {},
   "source": [
    "#### Plotting"
   ]
  },
  {
   "cell_type": "code",
   "execution_count": null,
   "metadata": {},
   "outputs": [],
   "source": [
    "# stimamps = [200, 220, 240, 260, 280, 300, 320, 340, 360, 380, 400]\n",
    "# days = [1, 4]\n",
    "\n",
    "# df_plot = df_p2p_latency_mean[df_p2p_latency_mean['Stim_Amplitude'].isin(stimamps) & df_p2p_latency['Day_Stim'].isin(days)].copy()\n",
    "# df_plot = df_plot.rename(columns={\"Bin\": \"Time Bin\", \"mean_p2p_ratio_max\": \"Mean Peak-to-Peak Amplitude (mV)\", 'Day_Stim':'Day'})"
   ]
  },
  {
   "cell_type": "code",
   "execution_count": null,
   "metadata": {},
   "outputs": [],
   "source": [
    "# sns.set(font_scale=2)\n",
    "# sns.set_style(\"ticks\")\n",
    "# g = sns.FacetGrid(df_plot, col=\"Group\", size=6, palette='tab10')\n",
    "# g = (g.map(sns.scatterplot, \"Time Bin\", \"Mean Peak-to-Peak Amplitude (mV)\", 'Day', s=75).add_legend())\n",
    "# plt.savefig('D:\\\\test.png')"
   ]
  },
  {
   "cell_type": "markdown",
   "metadata": {},
   "source": [
    "## Area under the curve analysis"
   ]
  },
  {
   "cell_type": "code",
   "execution_count": null,
   "metadata": {},
   "outputs": [],
   "source": []
  },
  {
   "cell_type": "code",
   "execution_count": null,
   "metadata": {},
   "outputs": [],
   "source": []
  },
  {
   "cell_type": "code",
   "execution_count": null,
   "metadata": {},
   "outputs": [],
   "source": []
  },
  {
   "cell_type": "code",
   "execution_count": null,
   "metadata": {},
   "outputs": [],
   "source": []
  },
  {
   "cell_type": "code",
   "execution_count": null,
   "metadata": {},
   "outputs": [],
   "source": []
  },
  {
   "cell_type": "code",
   "execution_count": null,
   "metadata": {},
   "outputs": [],
   "source": []
  },
  {
   "cell_type": "code",
   "execution_count": null,
   "metadata": {},
   "outputs": [],
   "source": []
  },
  {
   "cell_type": "code",
   "execution_count": null,
   "metadata": {},
   "outputs": [],
   "source": []
  },
  {
   "cell_type": "code",
   "execution_count": null,
   "metadata": {},
   "outputs": [],
   "source": []
  },
  {
   "cell_type": "code",
   "execution_count": null,
   "metadata": {},
   "outputs": [],
   "source": []
  },
  {
   "cell_type": "markdown",
   "metadata": {},
   "source": [
    "## Area under the curve latency analysis (3.75 ms time bins)"
   ]
  },
  {
   "cell_type": "code",
   "execution_count": null,
   "metadata": {},
   "outputs": [],
   "source": [
    "df_auc_latency = df_bin.copy()"
   ]
  },
  {
   "cell_type": "code",
   "execution_count": null,
   "metadata": {},
   "outputs": [],
   "source": []
  },
  {
   "cell_type": "code",
   "execution_count": null,
   "metadata": {},
   "outputs": [],
   "source": []
  },
  {
   "cell_type": "code",
   "execution_count": null,
   "metadata": {},
   "outputs": [],
   "source": []
  },
  {
   "cell_type": "code",
   "execution_count": null,
   "metadata": {},
   "outputs": [],
   "source": []
  },
  {
   "cell_type": "code",
   "execution_count": null,
   "metadata": {},
   "outputs": [],
   "source": []
  },
  {
   "cell_type": "code",
   "execution_count": null,
   "metadata": {},
   "outputs": [],
   "source": []
  },
  {
   "cell_type": "code",
   "execution_count": null,
   "metadata": {},
   "outputs": [],
   "source": []
  },
  {
   "cell_type": "code",
   "execution_count": null,
   "metadata": {},
   "outputs": [],
   "source": []
  },
  {
   "cell_type": "code",
   "execution_count": null,
   "metadata": {},
   "outputs": [],
   "source": []
  },
  {
   "cell_type": "code",
   "execution_count": null,
   "metadata": {},
   "outputs": [],
   "source": [
    "# import seaborn as sns\n",
    "# import matplotlib.pyplot as plt\n",
    "\n",
    "# plt.figure(figsize=(20,20))\n",
    "# sns.set_style(\"ticks\")\n",
    "# g = sns.FacetGrid(df_auc, col=\"Group\")\n",
    "# g = (g.map(sns.scatterplot, \"Stim_Amplitude\", \"STA_AUC\", 'Day_Stim').add_legend())"
   ]
  },
  {
   "cell_type": "markdown",
   "metadata": {},
   "source": [
    "### Calculate statistics on the plotted lines above\n",
    "##### slope, intercept, r_value, p_value, std_err"
   ]
  },
  {
   "cell_type": "markdown",
   "metadata": {},
   "source": [
    "Make dataframes for each group. This will make it easier to subset in the next step."
   ]
  },
  {
   "cell_type": "code",
   "execution_count": null,
   "metadata": {},
   "outputs": [],
   "source": [
    "# # group: no injury, no stimulation\n",
    "# df_nn = df_ratio_max[df_ratio_max['Group'] == 'No Injury, No Stimulation']\n",
    "# df_nn1 = df_nn[df_nn['Day_Stim'] == 1]\n",
    "# df_nn2 = df_nn[df_nn['Day_Stim'] == 2]\n",
    "# df_nn3 = df_nn[df_nn['Day_Stim'] == 3]\n",
    "# df_nn4 = df_nn[df_nn['Day_Stim'] == 4]\n",
    "\n",
    "# # group: no injury, yes stimulation\n",
    "# df_ny = df_ratio_max[df_ratio_max['Group'] == 'No Injury, Yes Stimulation']\n",
    "# df_ny1 = df_ny[df_ny['Day_Stim'] == 1]\n",
    "# df_ny2 = df_ny[df_ny['Day_Stim'] == 2]\n",
    "# df_ny3 = df_ny[df_ny['Day_Stim'] == 3]\n",
    "# df_ny4 = df_ny[df_ny['Day_Stim'] == 4]\n",
    "\n",
    "# # group: yes injury, no stimulation\n",
    "# df_yn = df_ratio_max[df_ratio_max['Group'] == 'Yes Injury, No Stimulation']\n",
    "# df_yn1 = df_yn[df_yn['Day_Stim'] == 1]\n",
    "# df_yn2 = df_yn[df_yn['Day_Stim'] == 2]\n",
    "# df_yn3 = df_yn[df_yn['Day_Stim'] == 3]\n",
    "# df_yn4 = df_yn[df_yn['Day_Stim'] == 4]\n",
    "\n",
    "# # group: yes injury, yes stimulation\n",
    "# df_yy = df_ratio_max[df_ratio_max['Group'] == 'Yes Injury, Yes Stimulation']\n",
    "# df_yy1 = df_yy[df_yy['Day_Stim'] == 1]\n",
    "# df_yy2 = df_yy[df_yy['Day_Stim'] == 2]\n",
    "# df_yy3 = df_yy[df_yy['Day_Stim'] == 3]\n",
    "# df_yy4 = df_yy[df_yy['Day_Stim'] == 4]"
   ]
  },
  {
   "cell_type": "code",
   "execution_count": null,
   "metadata": {},
   "outputs": [],
   "source": [
    "# from scipy import stats\n",
    "# from sklearn.linear_model import LinearRegression\n",
    "# import statsmodels.api as sm\n",
    "\n",
    "# df = df_yy4\n",
    "\n",
    "# X = df['Stim_Amplitude']\n",
    "# y = df['p2p_ratio_max']\n",
    "\n",
    "# X2 = sm.add_constant(X)\n",
    "# est = sm.OLS(y, X2)\n",
    "# est2 = est.fit()\n",
    "# print(est2.summary())"
   ]
  },
  {
   "cell_type": "markdown",
   "metadata": {},
   "source": [
    "### Apply linear mixed effects model (random slopes) to data plotted above"
   ]
  },
  {
   "cell_type": "code",
   "execution_count": null,
   "metadata": {},
   "outputs": [],
   "source": [
    "# df_ratio_max.head()"
   ]
  },
  {
   "cell_type": "code",
   "execution_count": null,
   "metadata": {},
   "outputs": [],
   "source": [
    "# import statsmodels.api as sm\n",
    "# import statsmodels.formula.api as smf\n",
    "\n",
    "# md = sm.MixedLM.from_formula(\"p2p_ratio_max ~ Stim_Amplitude + Day_Stim\", df_ratio_max, groups=df_ratio_max[\"Group\"])\n",
    "\n",
    "# mdf = md.fit()\n",
    "\n",
    "# print(mdf.summary())"
   ]
  },
  {
   "cell_type": "markdown",
   "metadata": {},
   "source": [
    "### Calculate area under the stimulus triggered average curves \n",
    "##### For each current amplitude, each animal, and each day"
   ]
  },
  {
   "cell_type": "code",
   "execution_count": null,
   "metadata": {
    "scrolled": false
   },
   "outputs": [],
   "source": [
    "#### KEEP THIS. MAY SPLIT INTO TIME BINS IN FUTURE\n",
    "\n",
    "# bins = [0.001, 0.004, 0.007, 0.010, 0.013, 0.0298] # define bins\n",
    "# labels = ['1 to 4 ms', '4 to 7 ms', '7 to 10 ms', '10 to 13 ms', '13 to 29.8 ms'] # define bin labels\n",
    "# #labels = [1, 2, 3, 4, 5]\n",
    "\n",
    "# df_bin = df_sta_sub_norm.copy()\n",
    "# df_bin['Time_Bin'] = pd.cut(df_bin['Time'], bins, labels=labels, right=False) # add Time_Bin column to dataframe\n",
    "# df_bin = df_bin.reindex(columns=['Animal', 'Day', 'Side', 'Stim_Amplitude', 'Time', 'Time_Bin', 'STA_Scaled'])\n",
    "# df_bin.rename(columns = {'Time_Bin':'Bin'}, inplace = True) \n",
    "# df_bin = df_bin[df_bin['Bin'] != '13 to 29.8 ms'] # drop all data 13 ms after the stimulation\n",
    "# df_bin.head()\n",
    "\n",
    "\n",
    "# from scipy import integrate\n",
    "\n",
    "# df_auc = df_bin.groupby(['Animal', 'Day', 'Side', 'Stim_Amplitude', 'Bin'])['STA_Scaled'].apply(integrate.simps).reset_index()\n",
    "# df_auc.rename(columns = {'STA_Scaled':'STA_AUC'}, inplace = True)\n",
    "# df_auc = df_auc.dropna()\n",
    "# df_auc.head()"
   ]
  },
  {
   "cell_type": "code",
   "execution_count": null,
   "metadata": {},
   "outputs": [],
   "source": [
    "# df_noisefloor_auc = df_sta_noart.copy()\n",
    "# df_noisefloor_auc = df_noisefloor_auc[(df_noisefloor_auc['Time'] > 20.0)]\n",
    "# df_noisefloor_auc.head()"
   ]
  },
  {
   "cell_type": "code",
   "execution_count": null,
   "metadata": {},
   "outputs": [],
   "source": [
    "# df_auc = df_sta_noart.copy()\n",
    "# df_auc = df_auc[(df_auc['Time'] > 2.0) & (df_auc['Time'] < 10.2)]\n",
    "# df_auc.tail()"
   ]
  },
  {
   "cell_type": "code",
   "execution_count": null,
   "metadata": {},
   "outputs": [],
   "source": [
    "# import numpy as np\n",
    "# # define animal groups\n",
    "# injstim = ['N09','N10','N11','N13','N27','N28','N29','N30']\n",
    "# noinjstim = ['N01','N04','N05','N31','N32','N33','N34','N35'] \n",
    "# injnostim = ['N14','N15','N16','N21','N22','N23','N36','N37']\n",
    "# noinjnostim = ['N17','N19','N20','N24','N25','N26','N38','N39'] \n",
    "\n",
    "# # add animal group information to the dataframe\n",
    "# conditions = [\n",
    "#     (df_auc['Animal'].isin(injstim) ),\n",
    "#     (df_auc['Animal'].isin(noinjstim) ),\n",
    "#     (df_auc['Animal'].isin(injnostim) ),\n",
    "#     (df_auc['Animal'].isin(noinjnostim) )]\n",
    "# choices = ['Injury and Stimulation', 'No Injury and Stimulation', 'Injury and No Stimulation', 'No Injury and No Stimulation']\n",
    "# df_auc['Group'] = np.select(conditions, choices)\n",
    "# df_auc.head()"
   ]
  },
  {
   "cell_type": "code",
   "execution_count": null,
   "metadata": {},
   "outputs": [],
   "source": [
    "# df_noisefloor_peak = df_noisefloor_auc.copy()\n",
    "# df_noisefloor_peak = df_noisefloor_peak.groupby(['Animal', 'Day_Postop', 'Day_Stim', 'Side', 'Stim_Amplitude'])['STA_Amplitude'].agg('mean').reset_index()\n",
    "# df_noisefloor_peak = df_noisefloor_peak.rename(columns={\"STA_Amplitude\": \"STA_Noise_Floor\"})\n",
    "# df_noisefloor_peak.head()"
   ]
  },
  {
   "cell_type": "code",
   "execution_count": null,
   "metadata": {},
   "outputs": [],
   "source": [
    "# df_noisefloor_auc = df_noisefloor_auc.groupby(['Animal', 'Day_Postop', 'Day_Stim', 'Side', 'Stim_Amplitude'])['STA_Amplitude'].agg('mean').reset_index()\n",
    "# df_noisefloor_auc['STA_Amplitude'] = df_noisefloor_auc['STA_Amplitude'] * 7.8 # 7.8 because the length of the STA is 7.8 ms\n",
    "# df_noisefloor_auc = df_noisefloor_auc.rename(columns={\"STA_Amplitude\": \"STA_Noise_Floor\"})\n",
    "# df_noisefloor_auc.head()"
   ]
  },
  {
   "cell_type": "code",
   "execution_count": null,
   "metadata": {},
   "outputs": [],
   "source": [
    "# df_peak = df_auc.copy()\n",
    "# df_peak = df_peak.groupby(['Animal', 'Day_Postop', 'Day_Stim', 'Side', 'Stim_Amplitude', 'Group'])['STA_Amplitude'].agg('max').reset_index()\n",
    "# df_peak.rename(columns = {'STA_Amplitude':'STA_Peak'}, inplace = True)\n",
    "# df_peak = df_peak.drop(columns=['Day_Postop', 'Side'])\n",
    "# df_peak.head()"
   ]
  },
  {
   "cell_type": "markdown",
   "metadata": {},
   "source": [
    "We now need to integrate the stimulus triggered average curves to find the area beneath them. We can then compare these areas under the curve (AUCs) between groups, days, stimulus intensities, etc.\n",
    "\n",
    "The trapezoidal rule provides a simple way to integrate a function but typically has much larger error than Simpson's rule without saving significant compute time. We will use Simpson's rule."
   ]
  },
  {
   "cell_type": "code",
   "execution_count": null,
   "metadata": {},
   "outputs": [],
   "source": [
    "# from scipy import integrate\n",
    "\n",
    "# df_auc = df_auc.groupby(['Animal', 'Day_Postop', 'Day_Stim', 'Side', 'Stim_Amplitude', 'Group'])['STA_Amplitude'].apply(integrate.simps).reset_index()\n",
    "# df_auc.rename(columns = {'STA_Amplitude':'STA_AUC'}, inplace = True)\n",
    "# df_auc = df_auc.drop(columns=['Day_Postop', 'Side'])\n",
    "# df_auc.head()"
   ]
  },
  {
   "cell_type": "code",
   "execution_count": null,
   "metadata": {},
   "outputs": [],
   "source": [
    "# df_peak.to_csv('D:\\\\df_peak_raw.csv', index=False) \n",
    "# df_auc.to_csv('D:\\\\df_auc_raw.csv', index=False) "
   ]
  },
  {
   "cell_type": "code",
   "execution_count": null,
   "metadata": {},
   "outputs": [],
   "source": [
    "# # one hot encoding for injury condition and stimulation condition\n",
    "\n",
    "# choices = ['Injury and Stimulation', 'No Injury and Stimulation', 'Injury and No Stimulation', 'No Injury and No Stimulation']\n",
    "\n",
    "# def injury(row):\n",
    "#     if (row['Group'] == 'Injury and Stimulation') | (row['Group'] == 'Injury and No Stimulation'):\n",
    "#         val = 1\n",
    "#     elif (row['Group'] == 'No Injury and Stimulation') | (row['Group'] == 'No Injury and No Stimulation'):\n",
    "#         val = 0\n",
    "#     else:\n",
    "#         val = -1\n",
    "#     return val\n",
    "\n",
    "# def stimulation(row):\n",
    "#     if (row['Group'] == 'Injury and Stimulation') | (row['Group'] == 'No Injury and Stimulation'):\n",
    "#         val = 1\n",
    "#     elif (row['Group'] == 'Injury and No Stimulation') | (row['Group'] == 'No Injury and No Stimulation'):\n",
    "#         val = 0\n",
    "#     else:\n",
    "#         val = -1\n",
    "#     return val"
   ]
  },
  {
   "cell_type": "code",
   "execution_count": null,
   "metadata": {},
   "outputs": [],
   "source": [
    "# # percent change from noise floor to peak for each day\n",
    "\n",
    "# df_peak_change = df_peak.copy()\n",
    "# df_peak_change[\"STA_Noise_Floor\"] = df_noisefloor_peak[\"STA_Noise_Floor\"]\n",
    "# df_peak_change['STA_Percent_Noise_Floor'] = ((df_peak_change['STA_Peak'].sub(df_peak_change[\"STA_Noise_Floor\"])).div(df_peak_change[\"STA_Noise_Floor\"])).mul(100)\n",
    "# df_peak_change.head()"
   ]
  },
  {
   "cell_type": "code",
   "execution_count": null,
   "metadata": {},
   "outputs": [],
   "source": [
    "# df_peak_change['Injury'] = df_peak_change.apply(injury, axis=1)\n",
    "# df_peak_change['Stimulation'] = df_peak_change.apply(stimulation, axis=1)\n",
    "# df_peak_change = df_peak_change.drop(columns=['STA_Peak', 'STA_Noise_Floor'])\n",
    "# df_peak_change.rename(columns = {'STA_Percent_Noise_Floor':'Peak_Percent_Noise_Floor'}, inplace = True) \n",
    "# df_peak_change.head()\n"
   ]
  },
  {
   "cell_type": "code",
   "execution_count": null,
   "metadata": {},
   "outputs": [],
   "source": [
    "# df_mean_day_peak_change = df_peak_change.copy()\n",
    "# df_mean_day_peak_change = df_mean_day_peak_change.groupby(['Day_Stim', 'Stim_Amplitude', 'Group'])['Peak_Percent_Noise_Floor'].agg('mean').reset_index()\n",
    "# df_mean_day_peak_change = df_mean_day_peak_change.rename(columns={'Peak_Percent_Noise_Floor':'Mean_Peak_Percent_Noise_Floor'})\n",
    "# df_mean_day_peak_change.head()"
   ]
  },
  {
   "cell_type": "code",
   "execution_count": null,
   "metadata": {},
   "outputs": [],
   "source": [
    "# stim_amp_list = [200, 250, 300, 350, 400, 450, 500, 600]\n",
    "# import seaborn as sns\n",
    "# import matplotlib.pyplot as plt\n",
    "# plt.figure(figsize=(20,20))\n",
    "# # sns.set(font_scale=2)\n",
    "# sns.set_style(\"ticks\")\n",
    "# g = sns.FacetGrid(df_mean_day_peak_change[(df_mean_day_peak_change['Stim_Amplitude'].isin(stim_amp_list)) & (df_mean_day_peak_change['Day_Stim']>0)], col=\"Group\")\n",
    "# g = (g.map(sns.scatterplot, \"Stim_Amplitude\", \"Mean_Peak_Percent_Noise_Floor\", 'Day_Stim').add_legend())\n"
   ]
  },
  {
   "cell_type": "code",
   "execution_count": null,
   "metadata": {},
   "outputs": [],
   "source": [
    "# # percent change from noise floor to auc for each day\n",
    "\n",
    "# df_day_auc_change = df_auc.copy()\n",
    "# df_day_auc_change[\"STA_Noise_Floor\"] = df_noisefloor_auc[\"STA_Noise_Floor\"]\n",
    "# df_day_auc_change['STA_Percent_Noise_Floor'] = ((df_day_auc_change['STA_AUC'].sub(df_day_auc_change[\"STA_Noise_Floor\"])).div(df_day_auc_change[\"STA_Noise_Floor\"])).mul(100)\n",
    "# df_day_auc_change.head()"
   ]
  },
  {
   "cell_type": "code",
   "execution_count": null,
   "metadata": {},
   "outputs": [],
   "source": [
    "# df_day_auc_change['Injury'] = df_day_auc_change.apply(injury, axis=1)\n",
    "# df_day_auc_change['Stimulation'] = df_day_auc_change.apply(stimulation, axis=1)\n",
    "# #df_day_pchange = df_day_pchange.drop(columns=['Day_Postop', 'Side', 'STA_AUC', 'STA_Noise_Floor'])\n",
    "# #df_day_pchange.to_csv('D:\\\\df_abstract.csv', index=False) \n",
    "# # df_day_pchange.head(50)\n",
    "# df_day_auc_change = df_day_auc_change.drop(columns=['STA_AUC', 'STA_Noise_Floor'])\n",
    "# df_day_auc_change.rename(columns = {'STA_Percent_Noise_Floor':'AUC_Percent_Noise_Floor'}, inplace = True) \n",
    "\n",
    "# df_day_auc_change.head()"
   ]
  },
  {
   "cell_type": "code",
   "execution_count": null,
   "metadata": {},
   "outputs": [],
   "source": [
    "# df_cluster = df_day_auc_change.copy()\n",
    "# df_cluster = df_cluster.drop(columns=['Injury','Stimulation'])\n",
    "# df_cluster = df_cluster.set_index('Animal')\n",
    "# df_cluster = df_cluster[df_cluster['Stim_Amplitude'] < 800]\n",
    "# # df_cluster['AnimalID'] = [int(x.strip()[-2:]) for x in df_cluster['Animal']]\n",
    "# # df_cluster = df_cluster.drop(columns=['Animal'])\n",
    "# # df_cluster = df_cluster[(df_cluster['Day_Stim'] == 3) | (df_cluster['Day_Stim'] == 4)]\n",
    "# # df_cluster = df_cluster[(df_cluster['Stim_Amplitude'] > 299) & (df_cluster['Stim_Amplitude'] < 510)]\n",
    "# # df_cluster = df_cluster.groupby(['AnimalID', 'Injury', 'Stimulation', ])['AUC_Percent_Noise_Floor'].agg('mean').reset_index()\n",
    "# df_cluster.head(30)"
   ]
  },
  {
   "cell_type": "code",
   "execution_count": null,
   "metadata": {},
   "outputs": [],
   "source": [
    "# from mpl_toolkits.mplot3d import Axes3D\n",
    "\n",
    "# sns.set(style = \"darkgrid\")\n",
    "\n",
    "# fig = plt.figure()\n",
    "# ax = fig.add_subplot(111, projection = '3d')\n",
    "\n",
    "# x = df_cluster['Day_Stim']\n",
    "# y = df_cluster['Stim_Amplitude']\n",
    "# z = df_cluster['AUC_Percent_Noise_Floor']\n",
    "\n",
    "# ax.set_xlabel(\"Day_Stim\")\n",
    "# ax.set_ylabel(\"Stim_Amplitude\")\n",
    "# ax.set_zlabel(\"AUC_Percent_Noise_Floor\")\n",
    "\n",
    "# ax.scatter(x, y, z)\n",
    "\n",
    "# plt.show()"
   ]
  },
  {
   "cell_type": "code",
   "execution_count": null,
   "metadata": {},
   "outputs": [],
   "source": [
    "# df_cluster.head(50)"
   ]
  },
  {
   "cell_type": "code",
   "execution_count": null,
   "metadata": {},
   "outputs": [],
   "source": [
    "# model = AgglomerativeClustering(distance_threshold=0, n_clusters=None, affinity='euclidean', \n",
    "#                                      linkage='complete').fit(df_cluster)\n",
    "# Z = hierarchy.linkage(model.children_, 'complete')\n",
    "# plt.figure(figsize=(20,10))\n",
    "# dn = hierarchy.dendrogram(Z)"
   ]
  },
  {
   "cell_type": "code",
   "execution_count": null,
   "metadata": {},
   "outputs": [],
   "source": [
    "# from sklearn.cluster import AgglomerativeClustering\n",
    "\n",
    "# clustering = AgglomerativeClustering(distance_threshold=0, n_clusters=None, affinity='euclidean', \n",
    "#                                      linkage='complete').fit(df_day_auc_change)\n"
   ]
  },
  {
   "cell_type": "code",
   "execution_count": null,
   "metadata": {
    "scrolled": false
   },
   "outputs": [],
   "source": [
    "# from scipy.cluster.hierarchy import dendrogram\n",
    "# from scipy.cluster import hierarchy\n",
    "\n",
    "# Z = hierarchy.linkage(clustering.children_, 'complete')\n",
    "\n",
    "\n",
    "# plt.figure(figsize=(20,10))\n",
    "# dn = hierarchy.dendrogram(Z)"
   ]
  },
  {
   "cell_type": "code",
   "execution_count": null,
   "metadata": {},
   "outputs": [],
   "source": [
    "# df_day_auc_change.head()"
   ]
  },
  {
   "cell_type": "code",
   "execution_count": null,
   "metadata": {},
   "outputs": [],
   "source": [
    "# df_cluster = df_day_auc_change[df_day_auc_change['Stim_Amplitude']]"
   ]
  },
  {
   "cell_type": "code",
   "execution_count": null,
   "metadata": {},
   "outputs": [],
   "source": [
    "# df_timeseries = df_auc.copy()\n",
    "# df_timeseries['Injury'] = df_timeseries.apply(injury, axis=1)\n",
    "# df_timeseries['Stimulation'] = df_timeseries.apply(stimulation, axis=1)\n",
    "# df_timeseries.head()"
   ]
  },
  {
   "cell_type": "code",
   "execution_count": null,
   "metadata": {},
   "outputs": [],
   "source": [
    "\n",
    "\n",
    "# from scipy.cluster.hierarchy import dendrogram\n",
    "\n",
    "# def plot_dendrogram(model, **kwargs):\n",
    "#     # Create linkage matrix and then plot the dendrogram\n",
    "\n",
    "#     # create the counts of samples under each node\n",
    "#     counts = np.zeros(model.children_.shape[0])\n",
    "#     n_samples = len(model.labels_)\n",
    "#     for i, merge in enumerate(model.children_):\n",
    "#         current_count = 0\n",
    "#         for child_idx in merge:\n",
    "#             if child_idx < n_samples:\n",
    "#                 current_count += 1  # leaf node\n",
    "#             else:\n",
    "#                 current_count += counts[child_idx - n_samples]\n",
    "#         counts[i] = current_count\n",
    "\n",
    "#     linkage_matrix = np.column_stack([model.children_, model.distances_,\n",
    "#                                       counts]).astype(float)\n",
    "\n",
    "#     # Plot the corresponding dendrogram\n",
    "#     dendrogram(linkage_matrix, **kwargs)\n",
    "    \n",
    "# plt.title('Hierarchical Clustering Dendrogram')\n",
    "# # plot the top three levels of the dendrogram\n",
    "# plot_dendrogram(clustering, truncate_mode='level', p=3)\n",
    "# plt.xlabel(\"Number of points in node (or index of point if no parenthesis).\")\n",
    "# plt.show()"
   ]
  },
  {
   "cell_type": "code",
   "execution_count": null,
   "metadata": {},
   "outputs": [],
   "source": [
    "# df_auc = df_sta_noart[df_sta_noart['Time'] <= 15].copy()\n",
    "# add_group(df_auc)\n",
    "# df_auc.head()"
   ]
  },
  {
   "cell_type": "code",
   "execution_count": null,
   "metadata": {},
   "outputs": [],
   "source": [
    "# df_auc['STA_Amplitude'] = df_auc['STA_Amplitude'].abs()"
   ]
  },
  {
   "cell_type": "code",
   "execution_count": null,
   "metadata": {},
   "outputs": [],
   "source": [
    "# df_auc.head()"
   ]
  },
  {
   "cell_type": "code",
   "execution_count": null,
   "metadata": {},
   "outputs": [],
   "source": [
    "# from scipy import integrate\n",
    "\n",
    "# df_auc = df_auc.group\n",
    "# by(['Animal', 'Day_Postop', 'Day_Stim', 'Side', 'Stim_Amplitude', 'Group'])['STA_Amplitude'].apply(integrate.simps).reset_index()\n",
    "# df_auc.rename(columns = {'STA_Amplitude':'STA_AUC'}, inplace = True)\n",
    "# df_auc.head()"
   ]
  },
  {
   "cell_type": "code",
   "execution_count": null,
   "metadata": {},
   "outputs": [],
   "source": [
    "# df_auc.to_csv('D:\\\\CSV_Outputs\\\\df_auc.csv', index=False) \n"
   ]
  },
  {
   "cell_type": "code",
   "execution_count": null,
   "metadata": {},
   "outputs": [],
   "source": [
    "# # these are dataframes that erica requested for abstract\n",
    "\n",
    "# df_peak_400 = df_peak_change.copy()\n",
    "# df_peak_day4 = df_peak_change.copy()\n",
    "# df_auc_400 = df_day_pchange.copy()\n",
    "# df_auc_day4 = df_day_pchange.copy()\n",
    "\n",
    "# df_peak_400 = df_peak_400[df_peak_400['Stim_Amplitude'] == 400]\n",
    "# df_peak_day4 = df_peak_day4[df_peak_day4['Day_Stim'] == 4]\n",
    "# df_auc_400 = df_auc_400[df_auc_400['Stim_Amplitude'] == 400]\n",
    "# df_auc_day4 = df_auc_day4[df_auc_day4['Day_Stim'] == 4]\n",
    "\n",
    "# df_peak_400.to_csv('D:\\\\df_peak_400.csv', index=False) \n",
    "# df_peak_day4.to_csv('D:\\\\df_peak_day4.csv', index=False) \n",
    "# df_auc_400.to_csv('D:\\\\df_auc_400.csv', index=False) \n",
    "# df_auc_day4.to_csv('D:\\\\df_auc_day4.csv', index=False) \n",
    "\n",
    "# df_peak_400_day4 = df_peak_400.copy()\n",
    "# df_peak_400_day4 = df_peak_400_day4[df_peak_400_day4['Day_Stim'] == 4]\n",
    "\n",
    "# df_auc_400_day4 = df_auc_400.copy()\n",
    "# df_auc_400_day4 = df_auc_400_day4[df_auc_400_day4['Day_Stim'] == 4]\n",
    "\n",
    "# df_peak_400_day4.to_csv('D:\\\\df_peak_400_day4.csv', index=False) \n",
    "# df_auc_400_day4.to_csv('D:\\\\df_auc_400_day4.csv', index=False) \n",
    "\n",
    "# df_auc = df_day_pchange.copy()\n",
    "# df_peak = df_peak_change.copy()\n",
    "# df_auc.to_csv('D:\\\\df_auc.csv', index=False) \n",
    "# df_peak.to_csv('D:\\\\df_peak.csv', index=False) "
   ]
  },
  {
   "cell_type": "markdown",
   "metadata": {},
   "source": [
    "# CODE BELOW THIS NEEDS TO BE INTEGRATED TO CODE ABOVE"
   ]
  },
  {
   "cell_type": "markdown",
   "metadata": {},
   "source": [
    " "
   ]
  },
  {
   "cell_type": "markdown",
   "metadata": {},
   "source": [
    " "
   ]
  },
  {
   "cell_type": "markdown",
   "metadata": {},
   "source": [
    " "
   ]
  },
  {
   "cell_type": "markdown",
   "metadata": {},
   "source": [
    " "
   ]
  },
  {
   "cell_type": "markdown",
   "metadata": {},
   "source": [
    " "
   ]
  },
  {
   "cell_type": "code",
   "execution_count": null,
   "metadata": {},
   "outputs": [],
   "source": []
  },
  {
   "cell_type": "code",
   "execution_count": null,
   "metadata": {},
   "outputs": [],
   "source": [
    "# # function to calculate percent change\n",
    "# def perc_change_from_d4(df, day):\n",
    "#     return ((df[str(day)].sub(df['4'])).div(df['4'])).mul(100)"
   ]
  },
  {
   "cell_type": "code",
   "execution_count": null,
   "metadata": {},
   "outputs": [],
   "source": [
    "# ### changed function above to take df arg\n",
    "\n",
    "# df_auc_pchange = df_auc.pivot_table(index=['Animal', 'Side', 'Stim_Amplitude', 'Bin', 'Group'], \n",
    "#                     columns='Day', \n",
    "#                     values='STA_AUC').reset_index()\n",
    "\n",
    "# for n in np.arange(6,20,2):\n",
    "#     df_auc_pchange[\"Day 4 to Day %s\" % n] = perc_change_from_d4(n)\n",
    "\n",
    "# df_auc_pchange = df_auc_pchange.drop(df_auc_pchange.columns[5:13], axis=1)\n",
    "# df_auc_pchange.head()"
   ]
  },
  {
   "cell_type": "code",
   "execution_count": null,
   "metadata": {},
   "outputs": [],
   "source": [
    "# df_auc_pchange = pd.melt(df_auc_pchange, id_vars=['Animal', 'Side', 'Stim_Amplitude', 'Bin', 'Group'], var_name='Days', value_name='Percent_Change')\n",
    "# df_auc_pchange.head()"
   ]
  },
  {
   "cell_type": "code",
   "execution_count": null,
   "metadata": {},
   "outputs": [],
   "source": [
    "# df_auc_pchange[(df_auc_pchange['Group'] == 'Group C') & (df_auc_pchange['Days'] == 'Day 4 to Day 16') & (df_auc_pchange['Animal'] == 'S05')].head(50)"
   ]
  },
  {
   "cell_type": "code",
   "execution_count": null,
   "metadata": {},
   "outputs": [],
   "source": [
    "# # all the bar plots\n",
    "# sns.set(font_scale=1.5)\n",
    "# g = sns.FacetGrid(df_auc_pchange, col=\"Days\", row='Bin')\n",
    "# g.map(sns.barplot, \"Group\", \"Percent_Change\", 'Stim_Amplitude')"
   ]
  },
  {
   "cell_type": "code",
   "execution_count": null,
   "metadata": {},
   "outputs": [],
   "source": [
    "# day_range = 'Day 4 to Day 18'\n",
    "\n",
    "# plt.figure(figsize=(20,12))\n",
    "# sns.set(font_scale=2)\n",
    "# sns.set_style(\"ticks\")\n",
    "# ax = sns.boxplot(x='Group', y='Percent_Change', hue='Stim_Amplitude', data=df_auc_pchange[df_auc_pchange['Days'] == day_range])\n",
    "# ax.legend(loc=\"upper left\", title='Stimulation Amplitude (uA)', title_fontsize=\"small\")\n",
    "# ax.set_title(project + ': Percent Change AUC ' + day_range)\n",
    "# ax.set_ylabel('Percent Change STA AUC')"
   ]
  },
  {
   "cell_type": "markdown",
   "metadata": {},
   "source": [
    "### Other analyses\n",
    "\n",
    "- Peak to peak from stimulus triggered average for each current amplitude, each animal, each day\n",
    "- Latency from stimulus pulse to stimulus triggered average for each current amplitude, each animal, each day\n",
    "- Time domains of stimulus triggered average\n",
    "- Differences in any of these parameters based on time of day?\n",
    "- How are we going to present the impedance data in the Neilsen paper? I’m still not clear on this.\n",
    "- Additional things we can look at (e.g., wavelet, FFT, HMM, etc.)\n",
    "- Look in manuscript file for notes on ideas. Also look in Daily Notes on OneNote for papers that did EMG analysis well.\n",
    "- Add information on time of day and stimulus amplitude from Neurochip"
   ]
  }
 ],
 "metadata": {
  "kernelspec": {
   "display_name": "Python 3",
   "language": "python",
   "name": "python3"
  },
  "language_info": {
   "codemirror_mode": {
    "name": "ipython",
    "version": 3
   },
   "file_extension": ".py",
   "mimetype": "text/x-python",
   "name": "python",
   "nbconvert_exporter": "python",
   "pygments_lexer": "ipython3",
   "version": "3.8.5"
  }
 },
 "nbformat": 4,
 "nbformat_minor": 4
}
