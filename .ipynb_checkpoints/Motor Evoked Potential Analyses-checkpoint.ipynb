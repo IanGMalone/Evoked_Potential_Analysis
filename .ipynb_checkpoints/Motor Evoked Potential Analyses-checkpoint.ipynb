{
 "cells": [
  {
   "cell_type": "markdown",
   "metadata": {},
   "source": [
    "# Exploratory Data Analysis of Stimulus Triggered Averages\n",
    "*Ian Malone*"
   ]
  },
  {
   "cell_type": "markdown",
   "metadata": {},
   "source": [
    "### Load data and check structure"
   ]
  },
  {
   "cell_type": "code",
   "execution_count": 171,
   "metadata": {},
   "outputs": [
    {
     "data": {
      "text/html": [
       "<div>\n",
       "<style scoped>\n",
       "    .dataframe tbody tr th:only-of-type {\n",
       "        vertical-align: middle;\n",
       "    }\n",
       "\n",
       "    .dataframe tbody tr th {\n",
       "        vertical-align: top;\n",
       "    }\n",
       "\n",
       "    .dataframe thead th {\n",
       "        text-align: right;\n",
       "    }\n",
       "</style>\n",
       "<table border=\"1\" class=\"dataframe\">\n",
       "  <thead>\n",
       "    <tr style=\"text-align: right;\">\n",
       "      <th></th>\n",
       "      <th>Animal</th>\n",
       "      <th>Day</th>\n",
       "      <th>Side</th>\n",
       "      <th>Stim_Amplitude</th>\n",
       "      <th>Sample</th>\n",
       "      <th>STA_Amplitude</th>\n",
       "    </tr>\n",
       "  </thead>\n",
       "  <tbody>\n",
       "    <tr>\n",
       "      <th>0</th>\n",
       "      <td>S01</td>\n",
       "      <td>D04</td>\n",
       "      <td>Left</td>\n",
       "      <td>100.0</td>\n",
       "      <td>0</td>\n",
       "      <td>0.065894</td>\n",
       "    </tr>\n",
       "    <tr>\n",
       "      <th>1</th>\n",
       "      <td>S01</td>\n",
       "      <td>D04</td>\n",
       "      <td>Left</td>\n",
       "      <td>100.0</td>\n",
       "      <td>1</td>\n",
       "      <td>0.109876</td>\n",
       "    </tr>\n",
       "    <tr>\n",
       "      <th>2</th>\n",
       "      <td>S01</td>\n",
       "      <td>D04</td>\n",
       "      <td>Left</td>\n",
       "      <td>100.0</td>\n",
       "      <td>2</td>\n",
       "      <td>0.131164</td>\n",
       "    </tr>\n",
       "    <tr>\n",
       "      <th>3</th>\n",
       "      <td>S01</td>\n",
       "      <td>D04</td>\n",
       "      <td>Left</td>\n",
       "      <td>100.0</td>\n",
       "      <td>3</td>\n",
       "      <td>0.101857</td>\n",
       "    </tr>\n",
       "    <tr>\n",
       "      <th>4</th>\n",
       "      <td>S01</td>\n",
       "      <td>D04</td>\n",
       "      <td>Left</td>\n",
       "      <td>100.0</td>\n",
       "      <td>4</td>\n",
       "      <td>0.125714</td>\n",
       "    </tr>\n",
       "  </tbody>\n",
       "</table>\n",
       "</div>"
      ],
      "text/plain": [
       "  Animal  Day  Side  Stim_Amplitude  Sample  STA_Amplitude\n",
       "0    S01  D04  Left           100.0       0       0.065894\n",
       "1    S01  D04  Left           100.0       1       0.109876\n",
       "2    S01  D04  Left           100.0       2       0.131164\n",
       "3    S01  D04  Left           100.0       3       0.101857\n",
       "4    S01  D04  Left           100.0       4       0.125714"
      ]
     },
     "execution_count": 171,
     "metadata": {},
     "output_type": "execute_result"
    }
   ],
   "source": [
    "import pandas as pd\n",
    "\n",
    "df_sta = pd.read_csv('C:\\\\Users\\\\Ian\\\\Google Drive\\\\IanGMalone\\\\UF\\\\Lab\\\\DataAndFigures\\\\Analysis\\\\df_STA_2020_11_25.csv')\n",
    "df_sta.head()"
   ]
  },
  {
   "cell_type": "code",
   "execution_count": 172,
   "metadata": {},
   "outputs": [
    {
     "data": {
      "text/plain": [
       "Animal             object\n",
       "Day                object\n",
       "Side               object\n",
       "Stim_Amplitude    float64\n",
       "Sample              int64\n",
       "STA_Amplitude     float64\n",
       "dtype: object"
      ]
     },
     "execution_count": 172,
     "metadata": {},
     "output_type": "execute_result"
    }
   ],
   "source": [
    "df_sta.dtypes"
   ]
  },
  {
   "cell_type": "markdown",
   "metadata": {},
   "source": [
    "#### For this analysis, we will only keep the left side EMG"
   ]
  },
  {
   "cell_type": "code",
   "execution_count": 173,
   "metadata": {},
   "outputs": [],
   "source": [
    "df_sta = df_sta[df_sta[\"Side\"] == 'Right']"
   ]
  },
  {
   "cell_type": "code",
   "execution_count": 174,
   "metadata": {
    "scrolled": true
   },
   "outputs": [
    {
     "name": "stdout",
     "output_type": "stream",
     "text": [
      "['S01' 'S02' 'S03']\n",
      "['D04' 'D06' 'D08']\n",
      "['Right']\n",
      "[100. 110. 120. 130. 140. 150. 160. 170. 180. 190. 200. 210. 220. 230.\n",
      " 240. 250. 260. 270. 280. 290. 300. 310. 320. 330. 340. 350. 360. 370.\n",
      " 380. 390. 400. 410. 420. 430. 440. 450. 460. 470. 480. 490. 500. 510.\n",
      " 520. 530. 540. 550. 560. 570. 580. 590. 600.]\n"
     ]
    }
   ],
   "source": [
    "print(df_sta.Animal.unique())\n",
    "print(df_sta.Day.unique())\n",
    "print(df_sta.Side.unique())\n",
    "print(df_sta.Stim_Amplitude.unique())"
   ]
  },
  {
   "cell_type": "markdown",
   "metadata": {},
   "source": [
    "#### We will also change the 'Day' column to have integer values."
   ]
  },
  {
   "cell_type": "code",
   "execution_count": 180,
   "metadata": {},
   "outputs": [
    {
     "data": {
      "text/plain": [
       "(     Animal  Day   Side  Stim_Amplitude  Sample  STA_Amplitude\n",
       " 6150    S01    4  Right           100.0       0       0.119449\n",
       " 6151    S01    4  Right           100.0       1       0.156867\n",
       " 6152    S01    4  Right           100.0       2       0.173611\n",
       " 6153    S01    4  Right           100.0       3       0.184769\n",
       " 6154    S01    4  Right           100.0       4       0.171930,\n",
       " Animal             object\n",
       " Day                 int32\n",
       " Side               object\n",
       " Stim_Amplitude    float64\n",
       " Sample              int64\n",
       " STA_Amplitude     float64\n",
       " dtype: object)"
      ]
     },
     "execution_count": 180,
     "metadata": {},
     "output_type": "execute_result"
    }
   ],
   "source": [
    "df_sta['Day'] = df_sta['Day'].str[-1].astype(int)\n",
    "df_sta.head(), df_sta.dtypes"
   ]
  },
  {
   "cell_type": "markdown",
   "metadata": {},
   "source": [
    "### Plot stimulus triggered average waveforms\n",
    "##### For each current amplitude, each animal, and each day"
   ]
  },
  {
   "cell_type": "code",
   "execution_count": 150,
   "metadata": {},
   "outputs": [],
   "source": [
    "# import seaborn as sns\n",
    "# import matplotlib.pyplot as plt\n",
    "\n",
    "# g = sns.FacetGrid(df_sta, col='Day', row='Animal', hue='Stim_Amplitude')\n",
    "# g.map_dataframe(sns.lineplot, x='Sample', y='STA_Amplitude')\n",
    "# g.set_axis_labels('30 ms duration', 'Ampltiude (V)')\n",
    "# g.add_legend()\n",
    "\n",
    "\n",
    "#### When you want to actually plot this with all the data, SUBSET! Only do day 01, 09 and 18\n",
    "#### also, only do certain stim amplitudes"
   ]
  },
  {
   "cell_type": "markdown",
   "metadata": {},
   "source": [
    "#### Observations\n",
    "- Each animal will need to have MEPs viewed on a unique y-axis. While this will help in viewing the data, during analysis, animals with large scale EMG values will still dominate and potentially obscure interesting group trends in MEP shape, latency, and longitudinal change.\n",
    "- Another approach is to normalize all MEP values between 0 and 1. This must be done for each individual animal and all days must be included in the normalization to preserve day-to-day changes. However, this normalization prevents direct comparisons between animals. Use this if you only care about the change over time for animals and not the absolute comparison of EMG values betweeen animals. This may be a valid approach due to variability in electrodes, implantation, etc. preventing meaningful comparison of MEP magnitude between animals."
   ]
  },
  {
   "cell_type": "markdown",
   "metadata": {},
   "source": [
    "### Calculate area under the stimulus triggered average curves \n",
    "##### For each current amplitude, each animal, and each day"
   ]
  },
  {
   "cell_type": "code",
   "execution_count": 181,
   "metadata": {},
   "outputs": [
    {
     "data": {
      "text/html": [
       "<div>\n",
       "<style scoped>\n",
       "    .dataframe tbody tr th:only-of-type {\n",
       "        vertical-align: middle;\n",
       "    }\n",
       "\n",
       "    .dataframe tbody tr th {\n",
       "        vertical-align: top;\n",
       "    }\n",
       "\n",
       "    .dataframe thead th {\n",
       "        text-align: right;\n",
       "    }\n",
       "</style>\n",
       "<table border=\"1\" class=\"dataframe\">\n",
       "  <thead>\n",
       "    <tr style=\"text-align: right;\">\n",
       "      <th></th>\n",
       "      <th>Animal</th>\n",
       "      <th>Day</th>\n",
       "      <th>Side</th>\n",
       "      <th>Stim_Amplitude</th>\n",
       "      <th>Sample</th>\n",
       "      <th>STA_Amplitude</th>\n",
       "    </tr>\n",
       "  </thead>\n",
       "  <tbody>\n",
       "    <tr>\n",
       "      <th>6150</th>\n",
       "      <td>S01</td>\n",
       "      <td>4</td>\n",
       "      <td>Right</td>\n",
       "      <td>100.0</td>\n",
       "      <td>0</td>\n",
       "      <td>0.119449</td>\n",
       "    </tr>\n",
       "    <tr>\n",
       "      <th>6151</th>\n",
       "      <td>S01</td>\n",
       "      <td>4</td>\n",
       "      <td>Right</td>\n",
       "      <td>100.0</td>\n",
       "      <td>1</td>\n",
       "      <td>0.156867</td>\n",
       "    </tr>\n",
       "    <tr>\n",
       "      <th>6152</th>\n",
       "      <td>S01</td>\n",
       "      <td>4</td>\n",
       "      <td>Right</td>\n",
       "      <td>100.0</td>\n",
       "      <td>2</td>\n",
       "      <td>0.173611</td>\n",
       "    </tr>\n",
       "    <tr>\n",
       "      <th>6153</th>\n",
       "      <td>S01</td>\n",
       "      <td>4</td>\n",
       "      <td>Right</td>\n",
       "      <td>100.0</td>\n",
       "      <td>3</td>\n",
       "      <td>0.184769</td>\n",
       "    </tr>\n",
       "    <tr>\n",
       "      <th>6154</th>\n",
       "      <td>S01</td>\n",
       "      <td>4</td>\n",
       "      <td>Right</td>\n",
       "      <td>100.0</td>\n",
       "      <td>4</td>\n",
       "      <td>0.171930</td>\n",
       "    </tr>\n",
       "  </tbody>\n",
       "</table>\n",
       "</div>"
      ],
      "text/plain": [
       "     Animal  Day   Side  Stim_Amplitude  Sample  STA_Amplitude\n",
       "6150    S01    4  Right           100.0       0       0.119449\n",
       "6151    S01    4  Right           100.0       1       0.156867\n",
       "6152    S01    4  Right           100.0       2       0.173611\n",
       "6153    S01    4  Right           100.0       3       0.184769\n",
       "6154    S01    4  Right           100.0       4       0.171930"
      ]
     },
     "execution_count": 181,
     "metadata": {},
     "output_type": "execute_result"
    }
   ],
   "source": [
    "df_sta.head()"
   ]
  },
  {
   "cell_type": "markdown",
   "metadata": {},
   "source": [
    "The dataframe looks as expected. We now want to add a column that defines sample bins of interest so we can compare metrics at different latencies (e.g., how does the area under the curve differ in the bins 0 to 5 ms vs. 5 to 10 ms?). We will first convert 'Sample' to 'Time' and then define bins of interest."
   ]
  },
  {
   "cell_type": "code",
   "execution_count": 182,
   "metadata": {},
   "outputs": [
    {
     "data": {
      "text/html": [
       "<div>\n",
       "<style scoped>\n",
       "    .dataframe tbody tr th:only-of-type {\n",
       "        vertical-align: middle;\n",
       "    }\n",
       "\n",
       "    .dataframe tbody tr th {\n",
       "        vertical-align: top;\n",
       "    }\n",
       "\n",
       "    .dataframe thead th {\n",
       "        text-align: right;\n",
       "    }\n",
       "</style>\n",
       "<table border=\"1\" class=\"dataframe\">\n",
       "  <thead>\n",
       "    <tr style=\"text-align: right;\">\n",
       "      <th></th>\n",
       "      <th>Animal</th>\n",
       "      <th>Day</th>\n",
       "      <th>Side</th>\n",
       "      <th>Stim_Amplitude</th>\n",
       "      <th>Sample</th>\n",
       "      <th>Time</th>\n",
       "      <th>Time_Bin</th>\n",
       "      <th>STA_Amplitude</th>\n",
       "    </tr>\n",
       "  </thead>\n",
       "  <tbody>\n",
       "    <tr>\n",
       "      <th>6150</th>\n",
       "      <td>S01</td>\n",
       "      <td>4</td>\n",
       "      <td>Right</td>\n",
       "      <td>100.0</td>\n",
       "      <td>0</td>\n",
       "      <td>0.0000</td>\n",
       "      <td>NaN</td>\n",
       "      <td>0.119449</td>\n",
       "    </tr>\n",
       "    <tr>\n",
       "      <th>6151</th>\n",
       "      <td>S01</td>\n",
       "      <td>4</td>\n",
       "      <td>Right</td>\n",
       "      <td>100.0</td>\n",
       "      <td>1</td>\n",
       "      <td>0.0002</td>\n",
       "      <td>NaN</td>\n",
       "      <td>0.156867</td>\n",
       "    </tr>\n",
       "    <tr>\n",
       "      <th>6152</th>\n",
       "      <td>S01</td>\n",
       "      <td>4</td>\n",
       "      <td>Right</td>\n",
       "      <td>100.0</td>\n",
       "      <td>2</td>\n",
       "      <td>0.0004</td>\n",
       "      <td>NaN</td>\n",
       "      <td>0.173611</td>\n",
       "    </tr>\n",
       "    <tr>\n",
       "      <th>6153</th>\n",
       "      <td>S01</td>\n",
       "      <td>4</td>\n",
       "      <td>Right</td>\n",
       "      <td>100.0</td>\n",
       "      <td>3</td>\n",
       "      <td>0.0006</td>\n",
       "      <td>NaN</td>\n",
       "      <td>0.184769</td>\n",
       "    </tr>\n",
       "    <tr>\n",
       "      <th>6154</th>\n",
       "      <td>S01</td>\n",
       "      <td>4</td>\n",
       "      <td>Right</td>\n",
       "      <td>100.0</td>\n",
       "      <td>4</td>\n",
       "      <td>0.0008</td>\n",
       "      <td>NaN</td>\n",
       "      <td>0.171930</td>\n",
       "    </tr>\n",
       "  </tbody>\n",
       "</table>\n",
       "</div>"
      ],
      "text/plain": [
       "     Animal  Day   Side  Stim_Amplitude  Sample    Time Time_Bin  \\\n",
       "6150    S01    4  Right           100.0       0  0.0000      NaN   \n",
       "6151    S01    4  Right           100.0       1  0.0002      NaN   \n",
       "6152    S01    4  Right           100.0       2  0.0004      NaN   \n",
       "6153    S01    4  Right           100.0       3  0.0006      NaN   \n",
       "6154    S01    4  Right           100.0       4  0.0008      NaN   \n",
       "\n",
       "      STA_Amplitude  \n",
       "6150       0.119449  \n",
       "6151       0.156867  \n",
       "6152       0.173611  \n",
       "6153       0.184769  \n",
       "6154       0.171930  "
      ]
     },
     "execution_count": 182,
     "metadata": {},
     "output_type": "execute_result"
    }
   ],
   "source": [
    "sampling_frequency = 5000 # hertz\n",
    "df_sta['Time'] = df_sta['Sample']/sampling_frequency # create time column based on samples and sampling frequency\n",
    "\n",
    "bins = [0.001, 0.006, 0.011, 0.016, 0.021, 0.026] # define bins\n",
    "#labels = ['1 to 6 ms', '6 to 11 ms', '11 to 16 ms', '16 to 21 ms', '21 to 26 ms'] # define bin labels\n",
    "labels = [1, 2, 3, 4, 5]\n",
    "df_sta['Time_Bin'] = pd.cut(df_sta['Time'], bins, labels=labels, right=False) # add Time_Bin column to dataframe\n",
    "df_sta = df_sta.reindex(columns=['Animal', 'Day', 'Side', 'Stim_Amplitude', 'Sample', 'Time', 'Time_Bin', 'STA_Amplitude'])\n",
    "\n",
    "df_sta.head()"
   ]
  },
  {
   "cell_type": "markdown",
   "metadata": {},
   "source": [
    "Note that the NaN value for the first several rows caused by purposely excluding the first 1 ms of data in order to remove any stimulus artifacts. This can be changed.\n",
    "\n",
    "We now need to integrate the stimulus triggered average curves to find the area beneath them. We can then compare these areas under the curve (AUCs) between groups, days, stimulus intensities, etc.\n",
    "\n",
    "The trapezoidal rule provides a simple way to integrate a function but typically has much larger error than Simpson's rule without saving significant compute time. We will use Simpson's rule."
   ]
  },
  {
   "cell_type": "code",
   "execution_count": 183,
   "metadata": {},
   "outputs": [
    {
     "data": {
      "text/html": [
       "<div>\n",
       "<style scoped>\n",
       "    .dataframe tbody tr th:only-of-type {\n",
       "        vertical-align: middle;\n",
       "    }\n",
       "\n",
       "    .dataframe tbody tr th {\n",
       "        vertical-align: top;\n",
       "    }\n",
       "\n",
       "    .dataframe thead th {\n",
       "        text-align: right;\n",
       "    }\n",
       "</style>\n",
       "<table border=\"1\" class=\"dataframe\">\n",
       "  <thead>\n",
       "    <tr style=\"text-align: right;\">\n",
       "      <th></th>\n",
       "      <th>Animal</th>\n",
       "      <th>Day</th>\n",
       "      <th>Side</th>\n",
       "      <th>Stim_Amplitude</th>\n",
       "      <th>Time_Bin</th>\n",
       "      <th>STA_AUC</th>\n",
       "    </tr>\n",
       "  </thead>\n",
       "  <tbody>\n",
       "    <tr>\n",
       "      <th>0</th>\n",
       "      <td>S01</td>\n",
       "      <td>4</td>\n",
       "      <td>Right</td>\n",
       "      <td>100.0</td>\n",
       "      <td>1</td>\n",
       "      <td>2.497616</td>\n",
       "    </tr>\n",
       "    <tr>\n",
       "      <th>1</th>\n",
       "      <td>S01</td>\n",
       "      <td>4</td>\n",
       "      <td>Right</td>\n",
       "      <td>100.0</td>\n",
       "      <td>2</td>\n",
       "      <td>2.492178</td>\n",
       "    </tr>\n",
       "    <tr>\n",
       "      <th>2</th>\n",
       "      <td>S01</td>\n",
       "      <td>4</td>\n",
       "      <td>Right</td>\n",
       "      <td>100.0</td>\n",
       "      <td>3</td>\n",
       "      <td>2.549094</td>\n",
       "    </tr>\n",
       "    <tr>\n",
       "      <th>3</th>\n",
       "      <td>S01</td>\n",
       "      <td>4</td>\n",
       "      <td>Right</td>\n",
       "      <td>100.0</td>\n",
       "      <td>4</td>\n",
       "      <td>2.191393</td>\n",
       "    </tr>\n",
       "    <tr>\n",
       "      <th>4</th>\n",
       "      <td>S01</td>\n",
       "      <td>4</td>\n",
       "      <td>Right</td>\n",
       "      <td>100.0</td>\n",
       "      <td>5</td>\n",
       "      <td>2.020577</td>\n",
       "    </tr>\n",
       "  </tbody>\n",
       "</table>\n",
       "</div>"
      ],
      "text/plain": [
       "  Animal  Day   Side  Stim_Amplitude Time_Bin   STA_AUC\n",
       "0    S01    4  Right           100.0        1  2.497616\n",
       "1    S01    4  Right           100.0        2  2.492178\n",
       "2    S01    4  Right           100.0        3  2.549094\n",
       "3    S01    4  Right           100.0        4  2.191393\n",
       "4    S01    4  Right           100.0        5  2.020577"
      ]
     },
     "execution_count": 183,
     "metadata": {},
     "output_type": "execute_result"
    }
   ],
   "source": [
    "from scipy import integrate\n",
    "\n",
    "df_auc = df_sta.groupby(['Animal', 'Day', 'Side', 'Stim_Amplitude', 'Time_Bin'])['STA_Amplitude'].apply(integrate.simps).reset_index()\n",
    "df_auc.rename(columns = {'STA_Amplitude':'STA_AUC'}, inplace = True)\n",
    "df_auc.head()"
   ]
  },
  {
   "cell_type": "markdown",
   "metadata": {},
   "source": [
    "### Exploratory Data Analysis\n",
    "\n",
    "We have our final data frame to use for this analysis, df_auc, and we can start our EDA."
   ]
  },
  {
   "cell_type": "code",
   "execution_count": 190,
   "metadata": {},
   "outputs": [
    {
     "data": {
      "text/plain": [
       "<AxesSubplot:xlabel='Day', ylabel='Animal'>"
      ]
     },
     "execution_count": 190,
     "metadata": {},
     "output_type": "execute_result"
    },
    {
     "data": {
      "image/png": "[encoded data removed]",
      "text/plain": [
       "<Figure size 432x288 with 2 Axes>"
      ]
     },
     "metadata": {
      "needs_background": "light"
     },
     "output_type": "display_data"
    }
   ],
   "source": [
    "# Use a heatmap to look at animal (y), day (x), and mean AUC (heat)\n",
    "\n",
    "df_animal_day = df_auc.groupby(['Animal', 'Day'])['STA_AUC'].mean().reset_index()\n",
    "df_animal_day_pivot = df_animal_day.pivot(index='Animal', columns='Day', values='STA_AUC').fillna(0)\n",
    "sns.heatmap(df_animal_day_pivot, annot=True, fmt='.0f', cmap=\"coolwarm\")"
   ]
  },
  {
   "cell_type": "markdown",
   "metadata": {},
   "source": [
    "### Other analyses\n",
    "\n",
    "Peak to peak from stimulus triggered average for each current amplitude, each animal, each day\n",
    "Latency from stimulus pulse to stimulus triggered average for each current amplitude, each animal, each day\n",
    "Time domains of stimulus triggered average\n",
    "Differences in any of these parameters based on time of day?\n",
    "How are we going to present the impedance data in the Neilsen paper? I’m still not clear on this.\n",
    "Additional things we can look at (e.g., wavelet, FFT, HMM, etc.)\n",
    "Look in manuscript file for notes on ideas. Also look in Daily Notes on OneNote for papers that did EMG analysis well."
   ]
  }
 ],
 "metadata": {
  "kernelspec": {
   "display_name": "Python 3",
   "language": "python",
   "name": "python3"
  },
  "language_info": {
   "codemirror_mode": {
    "name": "ipython",
    "version": 3
   },
   "file_extension": ".py",
   "mimetype": "text/x-python",
   "name": "python",
   "nbconvert_exporter": "python",
   "pygments_lexer": "ipython3",
   "version": "3.8.5"
  }
 },
 "nbformat": 4,
 "nbformat_minor": 4
}
